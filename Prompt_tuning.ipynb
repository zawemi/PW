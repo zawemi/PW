{
  "cells": [
    {
      "cell_type": "markdown",
      "metadata": {
        "id": "9amPT_LvJo2K"
      },
      "source": [
        "Ten notatnik zawiera kod dostrajania Soft-Prompt przy użyciu modelu językowego GPT-2 (z głowicą do generowania tekstu).\n",
        "Na podstawie: https://gist.github.com/mf1024/3df214d2f17f3dcc56450ddf0d5a4cd7"
      ]
    },
    {
      "cell_type": "markdown",
      "metadata": {
        "id": "yOLLKt8mJZ37"
      },
      "source": [
        "#Importy"
      ]
    },
    {
      "cell_type": "markdown",
      "source": [
        "Installing and importing necessary libraries."
      ],
      "metadata": {
        "id": "EtUYgxMpQitn"
      }
    },
    {
      "cell_type": "code",
      "execution_count": null,
      "metadata": {
        "colab": {
          "base_uri": "https://localhost:8080/"
        },
        "id": "6L0Xx8eXuGsT",
        "outputId": "659d35b0-cf1b-447f-9ec1-ec33a149e533"
      },
      "outputs": [
        {
          "output_type": "stream",
          "name": "stdout",
          "text": [
            "  Installing build dependencies ... \u001b[?25l\u001b[?25hdone\n",
            "  Getting requirements to build wheel ... \u001b[?25l\u001b[?25hdone\n",
            "  Preparing metadata (pyproject.toml) ... \u001b[?25l\u001b[?25hdone\n",
            "\u001b[2K     \u001b[90m━━━━━━━━━━━━━━━━━━━━━━━━━━━━━━━━━━━━━━━\u001b[0m \u001b[32m294.9/294.9 kB\u001b[0m \u001b[31m7.7 MB/s\u001b[0m eta \u001b[36m0:00:00\u001b[0m\n",
            "\u001b[2K     \u001b[90m━━━━━━━━━━━━━━━━━━━━━━━━━━━━━━━━━━━━━━━━\u001b[0m \u001b[32m3.8/3.8 MB\u001b[0m \u001b[31m75.7 MB/s\u001b[0m eta \u001b[36m0:00:00\u001b[0m\n",
            "\u001b[2K     \u001b[90m━━━━━━━━━━━━━━━━━━━━━━━━━━━━━━━━━━━━━━━━\u001b[0m \u001b[32m1.3/1.3 MB\u001b[0m \u001b[31m78.1 MB/s\u001b[0m eta \u001b[36m0:00:00\u001b[0m\n",
            "\u001b[2K     \u001b[90m━━━━━━━━━━━━━━━━━━━━━━━━━━━━━━━━━━━━━━\u001b[0m \u001b[32m268.8/268.8 kB\u001b[0m \u001b[31m28.3 MB/s\u001b[0m eta \u001b[36m0:00:00\u001b[0m\n",
            "\u001b[?25h  Building wheel for transformers (pyproject.toml) ... \u001b[?25l\u001b[?25hdone\n"
          ]
        }
      ],
      "source": [
        "# Install transformers library.\n",
        "!pip install -q git+https://github.com/huggingface/transformers.git"
      ]
    },
    {
      "cell_type": "code",
      "execution_count": null,
      "metadata": {
        "id": "vaZCbtb2u-39"
      },
      "outputs": [],
      "source": [
        "import io\n",
        "import os\n",
        "import torch\n",
        "from tqdm.notebook import tqdm\n",
        "from torch.utils.data import Dataset, DataLoader\n",
        "#from ml_things import plot_dict, plot_confusion_matrix, fix_text\n",
        "from sklearn.metrics import classification_report, accuracy_score\n",
        "from transformers import (set_seed,\n",
        "                          TrainingArguments,\n",
        "                          Trainer,\n",
        "                          GPT2Config,\n",
        "                          GPT2Tokenizer,\n",
        "                          AdamW,\n",
        "                          get_linear_schedule_with_warmup,\n",
        "                          GPT2ForSequenceClassification,\n",
        "                          GPT2LMHeadModel,\n",
        "                          GPT2Model)"
      ]
    },
    {
      "cell_type": "code",
      "execution_count": null,
      "metadata": {
        "id": "G6kkPLLXdu4m"
      },
      "outputs": [],
      "source": [
        "import torch.nn as nn"
      ]
    },
    {
      "cell_type": "markdown",
      "metadata": {
        "id": "3HAofDZZHG5t"
      },
      "source": [
        "#Weights&Biases"
      ]
    },
    {
      "cell_type": "markdown",
      "source": [
        "Instalacja i import Weights&Biases"
      ],
      "metadata": {
        "id": "PeSnbViEXF3D"
      }
    },
    {
      "cell_type": "code",
      "execution_count": null,
      "metadata": {
        "colab": {
          "base_uri": "https://localhost:8080/"
        },
        "id": "i08gnKUJSlkJ",
        "outputId": "1c0b3508-2395-4c85-fc7e-7f21ea93ea55"
      },
      "outputs": [
        {
          "output_type": "stream",
          "name": "stdout",
          "text": [
            "Collecting wandb\n",
            "  Downloading wandb-0.15.10-py3-none-any.whl (2.1 MB)\n",
            "\u001b[2K     \u001b[90m━━━━━━━━━━━━━━━━━━━━━━━━━━━━━━━━━━━━━━━━\u001b[0m \u001b[32m2.1/2.1 MB\u001b[0m \u001b[31m25.4 MB/s\u001b[0m eta \u001b[36m0:00:00\u001b[0m\n",
            "\u001b[?25hRequirement already satisfied: Click!=8.0.0,>=7.1 in /usr/local/lib/python3.10/dist-packages (from wandb) (8.1.7)\n",
            "Collecting GitPython!=3.1.29,>=1.0.0 (from wandb)\n",
            "  Downloading GitPython-3.1.36-py3-none-any.whl (189 kB)\n",
            "\u001b[2K     \u001b[90m━━━━━━━━━━━━━━━━━━━━━━━━━━━━━━━━━━━━━━\u001b[0m \u001b[32m189.5/189.5 kB\u001b[0m \u001b[31m24.3 MB/s\u001b[0m eta \u001b[36m0:00:00\u001b[0m\n",
            "\u001b[?25hRequirement already satisfied: requests<3,>=2.0.0 in /usr/local/lib/python3.10/dist-packages (from wandb) (2.31.0)\n",
            "Requirement already satisfied: psutil>=5.0.0 in /usr/local/lib/python3.10/dist-packages (from wandb) (5.9.5)\n",
            "Collecting sentry-sdk>=1.0.0 (from wandb)\n",
            "  Downloading sentry_sdk-1.30.0-py2.py3-none-any.whl (218 kB)\n",
            "\u001b[2K     \u001b[90m━━━━━━━━━━━━━━━━━━━━━━━━━━━━━━━━━━━━━━\u001b[0m \u001b[32m218.8/218.8 kB\u001b[0m \u001b[31m25.5 MB/s\u001b[0m eta \u001b[36m0:00:00\u001b[0m\n",
            "\u001b[?25hCollecting docker-pycreds>=0.4.0 (from wandb)\n",
            "  Downloading docker_pycreds-0.4.0-py2.py3-none-any.whl (9.0 kB)\n",
            "Requirement already satisfied: PyYAML in /usr/local/lib/python3.10/dist-packages (from wandb) (6.0.1)\n",
            "Collecting pathtools (from wandb)\n",
            "  Downloading pathtools-0.1.2.tar.gz (11 kB)\n",
            "  Preparing metadata (setup.py) ... \u001b[?25l\u001b[?25hdone\n",
            "Collecting setproctitle (from wandb)\n",
            "  Downloading setproctitle-1.3.2-cp310-cp310-manylinux_2_5_x86_64.manylinux1_x86_64.manylinux_2_17_x86_64.manylinux2014_x86_64.whl (30 kB)\n",
            "Requirement already satisfied: setuptools in /usr/local/lib/python3.10/dist-packages (from wandb) (67.7.2)\n",
            "Requirement already satisfied: appdirs>=1.4.3 in /usr/local/lib/python3.10/dist-packages (from wandb) (1.4.4)\n",
            "Requirement already satisfied: protobuf!=4.21.0,<5,>=3.19.0 in /usr/local/lib/python3.10/dist-packages (from wandb) (3.20.3)\n",
            "Requirement already satisfied: six>=1.4.0 in /usr/local/lib/python3.10/dist-packages (from docker-pycreds>=0.4.0->wandb) (1.16.0)\n",
            "Collecting gitdb<5,>=4.0.1 (from GitPython!=3.1.29,>=1.0.0->wandb)\n",
            "  Downloading gitdb-4.0.10-py3-none-any.whl (62 kB)\n",
            "\u001b[2K     \u001b[90m━━━━━━━━━━━━━━━━━━━━━━━━━━━━━━━━━━━━━━━━\u001b[0m \u001b[32m62.7/62.7 kB\u001b[0m \u001b[31m7.1 MB/s\u001b[0m eta \u001b[36m0:00:00\u001b[0m\n",
            "\u001b[?25hRequirement already satisfied: charset-normalizer<4,>=2 in /usr/local/lib/python3.10/dist-packages (from requests<3,>=2.0.0->wandb) (3.2.0)\n",
            "Requirement already satisfied: idna<4,>=2.5 in /usr/local/lib/python3.10/dist-packages (from requests<3,>=2.0.0->wandb) (3.4)\n",
            "Requirement already satisfied: urllib3<3,>=1.21.1 in /usr/local/lib/python3.10/dist-packages (from requests<3,>=2.0.0->wandb) (2.0.4)\n",
            "Requirement already satisfied: certifi>=2017.4.17 in /usr/local/lib/python3.10/dist-packages (from requests<3,>=2.0.0->wandb) (2023.7.22)\n",
            "Collecting smmap<6,>=3.0.1 (from gitdb<5,>=4.0.1->GitPython!=3.1.29,>=1.0.0->wandb)\n",
            "  Downloading smmap-5.0.0-py3-none-any.whl (24 kB)\n",
            "Building wheels for collected packages: pathtools\n",
            "  Building wheel for pathtools (setup.py) ... \u001b[?25l\u001b[?25hdone\n",
            "  Created wheel for pathtools: filename=pathtools-0.1.2-py3-none-any.whl size=8791 sha256=b3963972ed6525fc7f8fdf8a004a798dfb7bc541a2235b2fee629bbc3b2d6fc5\n",
            "  Stored in directory: /root/.cache/pip/wheels/e7/f3/22/152153d6eb222ee7a56ff8617d80ee5207207a8c00a7aab794\n",
            "Successfully built pathtools\n",
            "Installing collected packages: pathtools, smmap, setproctitle, sentry-sdk, docker-pycreds, gitdb, GitPython, wandb\n",
            "Successfully installed GitPython-3.1.36 docker-pycreds-0.4.0 gitdb-4.0.10 pathtools-0.1.2 sentry-sdk-1.30.0 setproctitle-1.3.2 smmap-5.0.0 wandb-0.15.10\n"
          ]
        }
      ],
      "source": [
        "!pip install wandb"
      ]
    },
    {
      "cell_type": "code",
      "execution_count": null,
      "metadata": {
        "id": "P6ztDKv2TiFR"
      },
      "outputs": [],
      "source": [
        "import wandb"
      ]
    },
    {
      "cell_type": "code",
      "execution_count": null,
      "metadata": {
        "colab": {
          "base_uri": "https://localhost:8080/"
        },
        "id": "_mMzJhcCTv7g",
        "outputId": "7d251b3f-6960-4f3e-a165-3304f0a3b2da"
      },
      "outputs": [
        {
          "output_type": "stream",
          "name": "stderr",
          "text": [
            "\u001b[34m\u001b[1mwandb\u001b[0m: W&B API key is configured. Use \u001b[1m`wandb login --relogin`\u001b[0m to force relogin\n",
            "\u001b[34m\u001b[1mwandb\u001b[0m: \u001b[33mWARNING\u001b[0m If you're specifying your api key in code, ensure this code is not shared publicly.\n",
            "\u001b[34m\u001b[1mwandb\u001b[0m: \u001b[33mWARNING\u001b[0m Consider setting the WANDB_API_KEY environment variable, or running `wandb login` from the command line.\n",
            "\u001b[34m\u001b[1mwandb\u001b[0m: Appending key for api.wandb.ai to your netrc file: /root/.netrc\n"
          ]
        },
        {
          "output_type": "execute_result",
          "data": {
            "text/plain": [
              "True"
            ]
          },
          "metadata": {},
          "execution_count": 6
        }
      ],
      "source": [
        "wandb.login()"
      ]
    },
    {
      "cell_type": "code",
      "execution_count": null,
      "metadata": {
        "id": "k-zE48pCwH7i"
      },
      "outputs": [],
      "source": [
        "from google.colab import drive\n",
        "drive.mount('/content/drive/')"
      ]
    },
    {
      "cell_type": "code",
      "execution_count": null,
      "metadata": {
        "id": "NlhzqAVZKcrd"
      },
      "outputs": [],
      "source": [
        "import pandas as pd"
      ]
    },
    {
      "cell_type": "code",
      "execution_count": null,
      "metadata": {
        "id": "FEoNAsjUNNqG"
      },
      "outputs": [],
      "source": [
        "import numpy as np"
      ]
    },
    {
      "cell_type": "code",
      "execution_count": null,
      "metadata": {
        "id": "cz8549_Jwcjr"
      },
      "outputs": [],
      "source": [
        "import os"
      ]
    },
    {
      "cell_type": "markdown",
      "metadata": {
        "id": "M2GER33avUss"
      },
      "source": [
        "#Ścieżki do danych"
      ]
    },
    {
      "cell_type": "markdown",
      "source": [
        "Wskazanie ścieżek danych."
      ],
      "metadata": {
        "id": "2ZR5-wyaXh_o"
      }
    },
    {
      "cell_type": "code",
      "execution_count": null,
      "metadata": {
        "id": "6FApTQs5qF9a"
      },
      "outputs": [],
      "source": [
        "TRAIN_DATA_DIR = \"/content/drive/MyDrive/Colab Notebooks/PW PROJEKT/csvs/dets/raw_data/output\""
      ]
    },
    {
      "cell_type": "code",
      "execution_count": null,
      "metadata": {
        "id": "SxBPKMyDU0EA"
      },
      "outputs": [],
      "source": [
        "TRAIN_DATA_FILE = \"train_data.csv\""
      ]
    },
    {
      "cell_type": "code",
      "execution_count": null,
      "metadata": {
        "id": "SLMjdnPoVUD8"
      },
      "outputs": [],
      "source": [
        "VAL_DATA_DIR = \"/content/drive/MyDrive/Colab Notebooks/PW PROJEKT/csvs/dets/raw_data/output\""
      ]
    },
    {
      "cell_type": "code",
      "execution_count": null,
      "metadata": {
        "id": "xbtnkDPTVYZT"
      },
      "outputs": [],
      "source": [
        "VAL_DATA_FILE = \"val_data.csv\""
      ]
    },
    {
      "cell_type": "code",
      "execution_count": null,
      "metadata": {
        "id": "jCarfjL7_CZh"
      },
      "outputs": [],
      "source": [
        "SAMPLE_DATA_FILE = \"train_data_sample.csv\""
      ]
    },
    {
      "cell_type": "markdown",
      "metadata": {
        "id": "XLILkIm1WV28"
      },
      "source": [
        "#Urządzenie"
      ]
    },
    {
      "cell_type": "code",
      "execution_count": null,
      "metadata": {
        "id": "3vEiRlcAWYX4"
      },
      "outputs": [],
      "source": [
        "device = 'cpu'\n",
        "if torch.cuda.is_available():\n",
        "    device = 'cuda'"
      ]
    },
    {
      "cell_type": "code",
      "execution_count": null,
      "metadata": {
        "colab": {
          "base_uri": "https://localhost:8080/",
          "height": 35
        },
        "id": "q64sHEF3Wajd",
        "outputId": "8a2f8082-4a67-40ec-bb00-63ed5dbe26f4"
      },
      "outputs": [
        {
          "output_type": "execute_result",
          "data": {
            "text/plain": [
              "'cuda'"
            ],
            "application/vnd.google.colaboratory.intrinsic+json": {
              "type": "string"
            }
          },
          "metadata": {},
          "execution_count": 10
        }
      ],
      "source": [
        "device"
      ]
    },
    {
      "cell_type": "markdown",
      "metadata": {
        "id": "AXQqQrS0JdVY"
      },
      "source": [
        "#Parametry treningu"
      ]
    },
    {
      "cell_type": "code",
      "execution_count": null,
      "metadata": {
        "id": "JIQPemzEwD4h"
      },
      "outputs": [],
      "source": [
        "BATCH_SIZE = 1\n",
        "EPOCHS = 3\n",
        "LEARNING_RATE = 1e-3\n",
        "WARMUP_STEPS = 0\n",
        "MAX_SEQ_LEN = 230"
      ]
    },
    {
      "cell_type": "code",
      "execution_count": null,
      "metadata": {
        "id": "VMEkuqo2zX7c"
      },
      "outputs": [],
      "source": [
        "soft_prompt_len = 10"
      ]
    },
    {
      "cell_type": "markdown",
      "source": [
        "#Inicjalizacja Weights&Biases"
      ],
      "metadata": {
        "id": "4pDUtLemXyi-"
      }
    },
    {
      "cell_type": "code",
      "execution_count": null,
      "metadata": {
        "colab": {
          "base_uri": "https://localhost:8080/",
          "height": 122
        },
        "id": "V_alF6TtHIw5",
        "outputId": "8187efa0-aaf8-4853-eb73-5ac102ed23c9"
      },
      "outputs": [
        {
          "output_type": "stream",
          "name": "stderr",
          "text": [
            "\u001b[34m\u001b[1mwandb\u001b[0m: Currently logged in as: \u001b[33mzawemi\u001b[0m. Use \u001b[1m`wandb login --relogin`\u001b[0m to force relogin\n"
          ]
        },
        {
          "output_type": "display_data",
          "data": {
            "text/plain": [
              "<IPython.core.display.HTML object>"
            ],
            "text/html": [
              "Tracking run with wandb version 0.15.10"
            ]
          },
          "metadata": {}
        },
        {
          "output_type": "display_data",
          "data": {
            "text/plain": [
              "<IPython.core.display.HTML object>"
            ],
            "text/html": [
              "Run data is saved locally in <code>/content/wandb/run-20230913_105837-otf6mhej</code>"
            ]
          },
          "metadata": {}
        },
        {
          "output_type": "display_data",
          "data": {
            "text/plain": [
              "<IPython.core.display.HTML object>"
            ],
            "text/html": [
              "Syncing run <strong><a href='https://wandb.ai/zawemi/pw-gsn-project-gpt2lmhead/runs/otf6mhej' target=\"_blank\">fast-flower-4</a></strong> to <a href='https://wandb.ai/zawemi/pw-gsn-project-gpt2lmhead' target=\"_blank\">Weights & Biases</a> (<a href='https://wandb.me/run' target=\"_blank\">docs</a>)<br/>"
            ]
          },
          "metadata": {}
        },
        {
          "output_type": "display_data",
          "data": {
            "text/plain": [
              "<IPython.core.display.HTML object>"
            ],
            "text/html": [
              " View project at <a href='https://wandb.ai/zawemi/pw-gsn-project-gpt2lmhead' target=\"_blank\">https://wandb.ai/zawemi/pw-gsn-project-gpt2lmhead</a>"
            ]
          },
          "metadata": {}
        },
        {
          "output_type": "display_data",
          "data": {
            "text/plain": [
              "<IPython.core.display.HTML object>"
            ],
            "text/html": [
              " View run at <a href='https://wandb.ai/zawemi/pw-gsn-project-gpt2lmhead/runs/otf6mhej' target=\"_blank\">https://wandb.ai/zawemi/pw-gsn-project-gpt2lmhead/runs/otf6mhej</a>"
            ]
          },
          "metadata": {}
        }
      ],
      "source": [
        "run = wandb.init(\n",
        "    #Projekt W&B\n",
        "    project=\"pw-gsn-project-gpt2lmhead\",\n",
        "    #Śledzone parametry\n",
        "    config={\n",
        "        \"learning_rate\": LEARNING_RATE,\n",
        "        \"epochs\": EPOCHS,\n",
        "        \"soft_prompt_len\": soft_prompt_len,\n",
        "\n",
        "    })"
      ]
    },
    {
      "cell_type": "markdown",
      "source": [
        "#Zbiór danych"
      ],
      "metadata": {
        "id": "O6tVf2OzXoPI"
      }
    },
    {
      "cell_type": "markdown",
      "source": [
        "Definicja klasy Dataset (PyTorch)"
      ],
      "metadata": {
        "id": "aHp48HqzXqLi"
      }
    },
    {
      "cell_type": "code",
      "source": [
        "from torch.utils.data import Dataset\n",
        "from torch.utils.data import Dataset, DataLoader\n",
        "import os\n",
        "import pandas as pd\n",
        "\n",
        "class QSADataset(Dataset):\n",
        "    def __init__(self, qsa_data_path = TRAIN_DATA_DIR, qsa_data_file = TRAIN_DATA_FILE):\n",
        "        super().__init__()\n",
        "\n",
        "        train_qsa_data_path = os.path.join(qsa_data_path, qsa_data_file)\n",
        "\n",
        "        self.qsa_texts = []\n",
        "        self.qsa_labels = []\n",
        "\n",
        "        qsa_df = pd.read_csv(train_qsa_data_path)\n",
        "\n",
        "        for idx, row in qsa_df.iterrows():\n",
        "          qsa_str = f'Question: {row[\"question\"]}; Sentence: {row[\"description\"]}; Answer:'\n",
        "          qsa_label = row[\"binary_label\"]\n",
        "          #print(qsa_str)\n",
        "          #print(qsa_label)\n",
        "          self.qsa_texts.append(qsa_str)\n",
        "          self.qsa_labels.append(qsa_label)\n",
        "\n",
        "    def __len__(self):\n",
        "        return len(self.qsa_texts)\n",
        "\n",
        "    def __getitem__(self, item):\n",
        "        return self.qsa_texts[item], self.qsa_labels[item]"
      ],
      "metadata": {
        "id": "d5QTFv2nta78"
      },
      "execution_count": null,
      "outputs": []
    },
    {
      "cell_type": "code",
      "execution_count": null,
      "metadata": {
        "id": "bNvL8Toktkw2"
      },
      "outputs": [],
      "source": [
        "qsa_dataset = QSADataset(qsa_data_path = TRAIN_DATA_DIR, qsa_data_file = TRAIN_DATA_FILE)\n",
        "qsa_dataloader = DataLoader(qsa_dataset, batch_size=BATCH_SIZE, shuffle=True)"
      ]
    },
    {
      "cell_type": "code",
      "execution_count": null,
      "metadata": {
        "id": "Ter6BlfbVoqv"
      },
      "outputs": [],
      "source": [
        "val_qsa_dataset = QSADataset(qsa_data_path = VAL_DATA_DIR, qsa_data_file = VAL_DATA_FILE)\n",
        "val_qsa_dataloader = DataLoader(val_qsa_dataset, batch_size=BATCH_SIZE, shuffle=False)"
      ]
    },
    {
      "cell_type": "markdown",
      "metadata": {
        "id": "okquy36MPYjI"
      },
      "source": [
        "#Model"
      ]
    },
    {
      "cell_type": "markdown",
      "source": [
        "Zaimportowanie modelu, zamrożenie parametrów modelu, stworzenie zerowego soft-promptu."
      ],
      "metadata": {
        "id": "Vf79C4rOX7ZG"
      }
    },
    {
      "cell_type": "code",
      "execution_count": null,
      "metadata": {
        "colab": {
          "base_uri": "https://localhost:8080/",
          "height": 247,
          "referenced_widgets": [
            "346f1d9636274b9ab97c64a496078842",
            "39e06e94339f41c38cc441c8f32b6500",
            "a91470c2921c442dbc9a6ecf64376476",
            "d710431bb43a41d5b6cd312b199587ed",
            "ddbad20ec4ce4af9b44007c9a2d8160a",
            "faaa5d53e3624a3d9632b1ea1b4d17b0",
            "b39f6bd6cb98458a9bbfb4438cdd2688",
            "9095ae9634d94920b3ea36b8e2ab7d65",
            "f68ad15ba4314c6ca6a43cfc2801a2f7",
            "007890bebac845c68012dbbc707f4c2d",
            "42c2a04d5bdb4e2c8257070a0e216ce0",
            "a5de3df3e9f64d2ab50adc1e588be101",
            "922a9c50f7f24b4380a9b355ad7c5d39",
            "d2940b983a21415598667d70a9b5302f",
            "7eee652f20c045cf81e4c87c9135639d",
            "8884f47b99054f8281dfb8aad8f2a9ad",
            "de2c0a189d0d4fa28d6d740446b33312",
            "5fb8648ee1c448288f6d0dc6bdeb8d83",
            "7b99feca84e240d082523a97d2630a76",
            "98a154580c6741a5a9c1728450ca3b42",
            "68cddc283ffe4720aa6560f217f3fc8e",
            "1c4d15587bfc495fae2684866082407f",
            "9fcaa693c3f3471c904438364091ae55",
            "2c1fb10174b6475b9ed9d4e0f7b35f4e",
            "84cfd50e907d459bb7a056a303e41525",
            "ce2ce98093df46ffa25934fa09479715",
            "c1462825c75a4b19b6067b2276c81ab1",
            "b610c053c1084af4871087cd5547b941",
            "7b515ea5c0bb472b97f2e37d99a31b9c",
            "72c92e9b96ef45208a3fc922aadef2c4",
            "0b27789d5ffe4ee0a5cacceef3cd9803",
            "f9ab5d7e98584ec495eb026feb93a8a9",
            "2855b6b900dd4c6080fd9ba8a1fe7abc",
            "3dd168b6d6a9483f8e5953295eb86b95",
            "8f453f1cf7c241698ced13525cd14a66",
            "9406e24aa30b4c099bda4c39d4d6db43",
            "933636285ad846c0a94049fcdd59d0b9",
            "74a5f5cff04d4a13a6e26111b8818101",
            "c6ac2ad3865f4a2d9d0a2e6c68bbd613",
            "e7d8bc66a9ba4ae1abfdde6e582651cb",
            "936640db82fd49a8bce23edff1b21d82",
            "f84533da0d1d4831a3a394765124c3c4",
            "b12b5fe29499437d9698c1a2e9a143b2",
            "ac18a43be80c431caa0addc2eb502448",
            "a27b3e4e1b2f45a09ed466c67cbf5d88",
            "5f9a146e3c1e47bea3bbae491add8245",
            "54661647f0e4430787a5a90fa1e1045c",
            "5133c62d11fe417b90e8a1c9b491b7a2",
            "67afa505a0bf462fa3bc9b66df175d5a",
            "89591b51babf4db38a4244d092d61be1",
            "4accb8cb2aad4179950149f2f22b673d",
            "09330e8fb4714e03879817691c4c26be",
            "e7cefc4dbcae4070a4db29d6d2246cd8",
            "1f4af98a25394f0d8374db2d5496f81c",
            "f02597e762584daaa3fae866a4c31945",
            "fbf2fa5af45c499eb6aa93b71204ff44",
            "7284fc3916f14a30a307049e279c1053",
            "7eeddbf6881e40838bb1c1a8da701588",
            "6866c9be203c49bca4a6ed321f3cfe1d",
            "23d3d0773aca4ea5b6e6227e5cf99377",
            "835109ba7fbd4972900b995809917b3a",
            "240aba63755f463798949182b2bc0e7a",
            "137d1817a3af44b09d8c2717fe0c2592",
            "7d8bda35979a484cbedbf2597d60b553",
            "226e893e35504e75afef8364016b078d",
            "b172861786474f699b2c2571727dc9ab"
          ]
        },
        "id": "4gbf8uZKvI_w",
        "outputId": "3c28bded-74d1-4015-f2ca-00e344df14a5"
      },
      "outputs": [
        {
          "output_type": "display_data",
          "data": {
            "text/plain": [
              "Downloading (…)olve/main/vocab.json:   0%|          | 0.00/1.04M [00:00<?, ?B/s]"
            ],
            "application/vnd.jupyter.widget-view+json": {
              "version_major": 2,
              "version_minor": 0,
              "model_id": "346f1d9636274b9ab97c64a496078842"
            }
          },
          "metadata": {}
        },
        {
          "output_type": "display_data",
          "data": {
            "text/plain": [
              "Downloading (…)olve/main/merges.txt:   0%|          | 0.00/456k [00:00<?, ?B/s]"
            ],
            "application/vnd.jupyter.widget-view+json": {
              "version_major": 2,
              "version_minor": 0,
              "model_id": "a5de3df3e9f64d2ab50adc1e588be101"
            }
          },
          "metadata": {}
        },
        {
          "output_type": "display_data",
          "data": {
            "text/plain": [
              "Downloading (…)/main/tokenizer.json:   0%|          | 0.00/1.36M [00:00<?, ?B/s]"
            ],
            "application/vnd.jupyter.widget-view+json": {
              "version_major": 2,
              "version_minor": 0,
              "model_id": "9fcaa693c3f3471c904438364091ae55"
            }
          },
          "metadata": {}
        },
        {
          "output_type": "display_data",
          "data": {
            "text/plain": [
              "Downloading (…)lve/main/config.json:   0%|          | 0.00/718 [00:00<?, ?B/s]"
            ],
            "application/vnd.jupyter.widget-view+json": {
              "version_major": 2,
              "version_minor": 0,
              "model_id": "3dd168b6d6a9483f8e5953295eb86b95"
            }
          },
          "metadata": {}
        },
        {
          "output_type": "stream",
          "name": "stderr",
          "text": [
            "Loading the tokenizer from the `special_tokens_map.json` and the `added_tokens.json` will be removed in `transformers 5`,  it is kept for forward compatibility, but it is recommended to update your `tokenizer_config.json` by uploading it again. You will see the new `added_tokens_decoder` attribute that will store the relevant information.\n"
          ]
        },
        {
          "output_type": "display_data",
          "data": {
            "text/plain": [
              "Downloading model.safetensors:   0%|          | 0.00/1.52G [00:00<?, ?B/s]"
            ],
            "application/vnd.jupyter.widget-view+json": {
              "version_major": 2,
              "version_minor": 0,
              "model_id": "a27b3e4e1b2f45a09ed466c67cbf5d88"
            }
          },
          "metadata": {}
        },
        {
          "output_type": "display_data",
          "data": {
            "text/plain": [
              "Downloading (…)neration_config.json:   0%|          | 0.00/124 [00:00<?, ?B/s]"
            ],
            "application/vnd.jupyter.widget-view+json": {
              "version_major": 2,
              "version_minor": 0,
              "model_id": "fbf2fa5af45c499eb6aa93b71204ff44"
            }
          },
          "metadata": {}
        }
      ],
      "source": [
        "tokenizer = GPT2Tokenizer.from_pretrained('gpt2-medium')\n",
        "model = GPT2LMHeadModel.from_pretrained('gpt2-medium')"
      ]
    },
    {
      "cell_type": "code",
      "execution_count": null,
      "metadata": {
        "colab": {
          "base_uri": "https://localhost:8080/"
        },
        "id": "v1H9_9G8vr_1",
        "outputId": "9ce14d9c-11be-47db-e5db-0ed89e880a9c"
      },
      "outputs": [
        {
          "output_type": "execute_result",
          "data": {
            "text/plain": [
              "GPT2LMHeadModel(\n",
              "  (transformer): GPT2Model(\n",
              "    (wte): Embedding(50257, 1024)\n",
              "    (wpe): Embedding(1024, 1024)\n",
              "    (drop): Dropout(p=0.1, inplace=False)\n",
              "    (h): ModuleList(\n",
              "      (0-23): 24 x GPT2Block(\n",
              "        (ln_1): LayerNorm((1024,), eps=1e-05, elementwise_affine=True)\n",
              "        (attn): GPT2Attention(\n",
              "          (c_attn): Conv1D()\n",
              "          (c_proj): Conv1D()\n",
              "          (attn_dropout): Dropout(p=0.1, inplace=False)\n",
              "          (resid_dropout): Dropout(p=0.1, inplace=False)\n",
              "        )\n",
              "        (ln_2): LayerNorm((1024,), eps=1e-05, elementwise_affine=True)\n",
              "        (mlp): GPT2MLP(\n",
              "          (c_fc): Conv1D()\n",
              "          (c_proj): Conv1D()\n",
              "          (act): NewGELUActivation()\n",
              "          (dropout): Dropout(p=0.1, inplace=False)\n",
              "        )\n",
              "      )\n",
              "    )\n",
              "    (ln_f): LayerNorm((1024,), eps=1e-05, elementwise_affine=True)\n",
              "  )\n",
              "  (lm_head): Linear(in_features=1024, out_features=50257, bias=False)\n",
              ")"
            ]
          },
          "metadata": {},
          "execution_count": 19
        }
      ],
      "source": [
        "model.eval()"
      ]
    },
    {
      "cell_type": "code",
      "execution_count": null,
      "metadata": {
        "id": "ug8G4glUvmz1"
      },
      "outputs": [],
      "source": [
        "for param in model.parameters():\n",
        "  param.requires_grad = False"
      ]
    },
    {
      "cell_type": "code",
      "execution_count": null,
      "metadata": {
        "id": "DgpHhc1jXrEh"
      },
      "outputs": [],
      "source": [
        "tokenizer.pad_token = tokenizer.eos_token"
      ]
    },
    {
      "cell_type": "code",
      "execution_count": null,
      "metadata": {
        "id": "jdWAFmG_ZDxo"
      },
      "outputs": [],
      "source": [
        "model.config.pad_token_id = model.config.eos_token_id"
      ]
    },
    {
      "cell_type": "code",
      "execution_count": null,
      "metadata": {
        "colab": {
          "base_uri": "https://localhost:8080/"
        },
        "id": "gtNwG_kIv18h",
        "outputId": "7bc7b775-3665-42a0-87f0-3f5f10772409"
      },
      "outputs": [
        {
          "output_type": "execute_result",
          "data": {
            "text/plain": [
              "GPT2LMHeadModel(\n",
              "  (transformer): GPT2Model(\n",
              "    (wte): Embedding(50257, 1024)\n",
              "    (wpe): Embedding(1024, 1024)\n",
              "    (drop): Dropout(p=0.1, inplace=False)\n",
              "    (h): ModuleList(\n",
              "      (0-23): 24 x GPT2Block(\n",
              "        (ln_1): LayerNorm((1024,), eps=1e-05, elementwise_affine=True)\n",
              "        (attn): GPT2Attention(\n",
              "          (c_attn): Conv1D()\n",
              "          (c_proj): Conv1D()\n",
              "          (attn_dropout): Dropout(p=0.1, inplace=False)\n",
              "          (resid_dropout): Dropout(p=0.1, inplace=False)\n",
              "        )\n",
              "        (ln_2): LayerNorm((1024,), eps=1e-05, elementwise_affine=True)\n",
              "        (mlp): GPT2MLP(\n",
              "          (c_fc): Conv1D()\n",
              "          (c_proj): Conv1D()\n",
              "          (act): NewGELUActivation()\n",
              "          (dropout): Dropout(p=0.1, inplace=False)\n",
              "        )\n",
              "      )\n",
              "    )\n",
              "    (ln_f): LayerNorm((1024,), eps=1e-05, elementwise_affine=True)\n",
              "  )\n",
              "  (lm_head): Linear(in_features=1024, out_features=50257, bias=False)\n",
              ")"
            ]
          },
          "metadata": {},
          "execution_count": 23
        }
      ],
      "source": [
        "model.to(device)"
      ]
    },
    {
      "cell_type": "code",
      "execution_count": null,
      "metadata": {
        "id": "nkH_2_Y9xNVC"
      },
      "outputs": [],
      "source": [
        "soft_prompt = torch.zeros((soft_prompt_len, 1024), requires_grad=True)"
      ]
    },
    {
      "cell_type": "code",
      "execution_count": null,
      "metadata": {
        "colab": {
          "base_uri": "https://localhost:8080/"
        },
        "id": "M2wUGzPb0o_g",
        "outputId": "551740d3-056b-4b19-e5ca-f784015842ef"
      },
      "outputs": [
        {
          "output_type": "execute_result",
          "data": {
            "text/plain": [
              "tensor([[0., 0., 0.,  ..., 0., 0., 0.],\n",
              "        [0., 0., 0.,  ..., 0., 0., 0.],\n",
              "        [0., 0., 0.,  ..., 0., 0., 0.],\n",
              "        ...,\n",
              "        [0., 0., 0.,  ..., 0., 0., 0.],\n",
              "        [0., 0., 0.,  ..., 0., 0., 0.],\n",
              "        [0., 0., 0.,  ..., 0., 0., 0.]], requires_grad=True)"
            ]
          },
          "metadata": {},
          "execution_count": 32
        }
      ],
      "source": [
        "soft_prompt"
      ]
    },
    {
      "cell_type": "code",
      "execution_count": null,
      "metadata": {
        "colab": {
          "base_uri": "https://localhost:8080/"
        },
        "id": "NGvadTABGrnf",
        "outputId": "a26cf3be-37a9-4bac-c3fd-484f9ce22c2a"
      },
      "outputs": [
        {
          "output_type": "execute_result",
          "data": {
            "text/plain": [
              "torch.Size([10, 1024])"
            ]
          },
          "metadata": {},
          "execution_count": 33
        }
      ],
      "source": [
        "soft_prompt.shape"
      ]
    },
    {
      "cell_type": "code",
      "execution_count": null,
      "metadata": {
        "id": "d3O08SFFwZC7"
      },
      "outputs": [],
      "source": [
        "optimizer = torch.optim.Adam([soft_prompt], lr=LEARNING_RATE)"
      ]
    },
    {
      "cell_type": "markdown",
      "metadata": {
        "id": "wHGUwKlim1ss"
      },
      "source": [
        "#Funkcje pomocnicze"
      ]
    },
    {
      "cell_type": "code",
      "execution_count": null,
      "metadata": {
        "id": "meQpOyK7KYET"
      },
      "outputs": [],
      "source": [
        "from sklearn.metrics import accuracy_score"
      ]
    },
    {
      "cell_type": "code",
      "source": [
        "def validation(val_dataloader, soft_prompt):\n",
        "  #wykonaj walidację, uwzględniając soft-prompt\n",
        "  sum_loss = 0.0\n",
        "  batch_count = 0\n",
        "\n",
        "  predicted_labels = []\n",
        "  true_labels = []\n",
        "\n",
        "  cross_entropy_loss = nn.CrossEntropyLoss()\n",
        "\n",
        "  for qsa in val_dataloader:\n",
        "    text = tokenizer.encode(qsa[0][0])\n",
        "    text_embeds = model.transformer.wte.weight[text, :] #uzyskanie embeddingów, aby można je było połączyć z soft-promptem\n",
        "    with torch.no_grad():\n",
        "      embeds = torch.cat((soft_prompt.to(device), text_embeds.to(device)), 0).unsqueeze(0).to(device)\n",
        "      label = tokenizer.encode(qsa[1][0])\n",
        "      label_index = label[0]\n",
        "\n",
        "      outputs = model(inputs_embeds=embeds)\n",
        "      softmax_logits = torch.softmax(outputs.logits, dim=-1)\n",
        "      predicted_label = softmax_logits.detach().argmax(axis=-1).flatten().tolist()[-1] #ostatni token\n",
        "      predicted_labels.append(predicted_label)\n",
        "      loss = cross_entropy_loss(outputs.logits[:,-1,:], torch.cuda.LongTensor([label_index]))\n",
        "\n",
        "    sum_loss += loss.clone().detach()\n",
        "    batch_count += 1\n",
        "    avg_loss = sum_loss/batch_count\n",
        "    true_labels.append(label_index)\n",
        "\n",
        "    accuracy = accuracy_score(true_labels, predicted_labels)\n",
        "\n",
        "  return avg_loss, accuracy"
      ],
      "metadata": {
        "id": "QloixErXuz1z"
      },
      "execution_count": null,
      "outputs": []
    },
    {
      "cell_type": "markdown",
      "metadata": {
        "id": "zxrJ8_u-PcFc"
      },
      "source": [
        "#Trening"
      ]
    },
    {
      "cell_type": "code",
      "source": [
        "VALID_EVERY = 3000"
      ],
      "metadata": {
        "id": "0R1HD9Sp61mL"
      },
      "execution_count": null,
      "outputs": []
    },
    {
      "cell_type": "code",
      "source": [
        "SOFT_PROMPT_PATH = \"/content/drive/MyDrive/Colab Notebooks/PW PROJEKT/csvs/dets/soft_prompt\""
      ],
      "metadata": {
        "id": "dR_xSjabXRCM"
      },
      "execution_count": null,
      "outputs": []
    },
    {
      "cell_type": "code",
      "source": [
        "sum_loss = 0.0\n",
        "batch_count = 0\n",
        "\n",
        "predicted_labels = []\n",
        "true_labels = []\n",
        "\n",
        "models_folder = \"trained_models_lmhead\"\n",
        "cross_entropy_loss = nn.CrossEntropyLoss()\n",
        "\n",
        "if not os.path.exists(models_folder):\n",
        "    os.mkdir(models_folder)\n",
        "\n",
        "for epoch in range(EPOCHS):\n",
        "\n",
        "    print(f\"EPOCH {epoch+1}/{EPOCHS} started\" + '=' * 30)\n",
        "\n",
        "    for qsa in tqdm(qsa_dataloader):\n",
        "        text = tokenizer.encode(qsa[0][0])\n",
        "        text_embeds = model.transformer.wte.weight[text, :]\n",
        "\n",
        "        embeds = torch.cat((soft_prompt.to(device), text_embeds.to(device)), 0).unsqueeze(0).to(device)\n",
        "        label = tokenizer.encode(qsa[1][0])\n",
        "        label_index = label[0]\n",
        "        outputs = model(inputs_embeds=embeds)\n",
        "        softmax_logits = torch.softmax(outputs.logits, dim=-1)\n",
        "        predicted_label = softmax_logits.detach().argmax(axis=-1).flatten().tolist()[-1]\n",
        "        predicted_labels.append(predicted_label)\n",
        "\n",
        "        loss = cross_entropy_loss(outputs.logits[:,-1,:], torch.cuda.LongTensor([label_index]))\n",
        "\n",
        "        optimizer.zero_grad()\n",
        "        loss.backward()\n",
        "        optimizer.step()\n",
        "\n",
        "        sum_loss += loss.clone().detach()\n",
        "        batch_count += 1\n",
        "        avg_loss = sum_loss/batch_count\n",
        "        wandb.log({\"Avg loss\": avg_loss})\n",
        "        true_labels.append(label_index)\n",
        "        accuracy = accuracy_score(true_labels, predicted_labels)\n",
        "        wandb.log({\"Accuracy\": accuracy})\n",
        "\n",
        "        if batch_count % VALID_EVERY == 0:\n",
        "          print(f\"Avg loss: {sum_loss/batch_count}\")\n",
        "          print(f\"Accuracy: {accuracy}\")\n",
        "          #WALIDACJA\n",
        "          val_avg_loss, val_accuracy = validation(val_qsa_dataloader, soft_prompt)\n",
        "          wandb.log({\"Validation loss\": val_avg_loss})\n",
        "          wandb.log({\"Validation accuracy\": val_accuracy})\n",
        "          print(f\"Validation loss: {val_avg_loss}\")\n",
        "          print(f\"Validation accuracy: {val_accuracy}\")\n",
        "          print(\"=\" * 30)\n",
        "\n",
        "torch.save(soft_prompt, f\"{SOFT_PROMPT_PATH}/soft_prompt_{soft_prompt_len}_e{EPOCHS}_lr{LEARNING_RATE}.pt\")"
      ],
      "metadata": {
        "colab": {
          "base_uri": "https://localhost:8080/",
          "height": 1000,
          "referenced_widgets": [
            "f209670a87d8467e9b9d32b09a6798c4",
            "173819670d6644d1a55860ee945d70b8",
            "6e6622a378b940959a5a425c9488403f",
            "5840adb9aa1d4c2886cef797b6211a72",
            "1029c0b0bc04414bb627d137a03b6298",
            "3952f3c50d6f4f5baa1cf7b69c357257",
            "14952b3e8428481b99aea59e87b1c267",
            "7121df7d519e40b09be3e61d92bd8ff0",
            "d76bb6489180429c85e4fe50f29c3220",
            "a1d42e3f7b374152befc5ec0293438fe",
            "75f34b3d1cf04ece84370802af3e3edd",
            "f3d328bd206d4595bf7d943fadc57f34",
            "fb63af1f33a448bf9a04c25527e5e4a5",
            "af35f43feb054681a91d673b5ff8d968",
            "7e1b74d8fe194d11af78d33953531977",
            "5a400c41a15c4c8bb6e022ad3e97f99d",
            "8c2c8e602f734c17a721a1c6152ed986",
            "a31ccdd1f1a44a3d8425d66b4ee327fc",
            "6bfd8ebaa9c340eeafd1d46adcc949ed",
            "b4d951be03c848998dd7f237eb4f4a92",
            "1805d64c9f65425e8e338f14ace5f1f0",
            "f0abeab8bc1b48d390be73fcfaa4405d",
            "dbadd5f54b484c45aa4259d5d1f671e8",
            "5533f2af1ea9445da3ce5942eed33df2",
            "e8c4381c0cbc46868f82d6713898ee4f",
            "dbd85b4c3f7740e08a86d50a0e3e9e6e",
            "e3a472d1a93949288bb8b343cb944090",
            "7674248145e3488a9c94499038b92c6a",
            "8d47f252caa4470f8448f6fa939df144",
            "9ba0898c1c6f4ea3b8dd45fe3b91a07c",
            "c78f2c67b0f34dbda519268ace579461",
            "021b4e249d934351bdfa0915fa995e71",
            "fca1174c3c604ff5842bac8d305c0882"
          ]
        },
        "id": "Fw_wmq0CuXZc",
        "outputId": "fbd7d749-4b65-4271-a18b-b99cedbfd4dc"
      },
      "execution_count": null,
      "outputs": [
        {
          "metadata": {
            "tags": null
          },
          "name": "stdout",
          "output_type": "stream",
          "text": [
            "EPOCH 1/3 started==============================\n"
          ]
        },
        {
          "data": {
            "application/vnd.jupyter.widget-view+json": {
              "model_id": "f209670a87d8467e9b9d32b09a6798c4",
              "version_major": 2,
              "version_minor": 0
            },
            "text/plain": [
              "  0%|          | 0/37981 [00:00<?, ?it/s]"
            ]
          },
          "metadata": {},
          "output_type": "display_data"
        },
        {
          "metadata": {
            "tags": null
          },
          "name": "stdout",
          "output_type": "stream",
          "text": [
            "Avg loss: 1.8790770769119263\n",
            "Accuracy: 0.42433333333333334\n",
            "Validation loss: 0.7367240190505981\n",
            "Validation accuracy: 0.504\n",
            "==============================\n",
            "Avg loss: 1.3366159200668335\n",
            "Accuracy: 0.4751666666666667\n",
            "Validation loss: 0.788270890712738\n",
            "Validation accuracy: 0.462\n",
            "==============================\n",
            "Avg loss: 1.1355249881744385\n",
            "Accuracy: 0.4961111111111111\n",
            "Validation loss: 0.6903929114341736\n",
            "Validation accuracy: 0.557\n",
            "==============================\n",
            "Avg loss: 1.0334229469299316\n",
            "Accuracy: 0.5091666666666667\n",
            "Validation loss: 0.6916645169258118\n",
            "Validation accuracy: 0.547\n",
            "==============================\n",
            "Avg loss: 0.9669666290283203\n",
            "Accuracy: 0.518\n",
            "Validation loss: 0.663616955280304\n",
            "Validation accuracy: 0.602\n",
            "==============================\n",
            "Avg loss: 0.9207178950309753\n",
            "Accuracy: 0.5278888888888889\n",
            "Validation loss: 0.6566595435142517\n",
            "Validation accuracy: 0.595\n",
            "==============================\n",
            "Avg loss: 0.8855274319648743\n",
            "Accuracy: 0.5364285714285715\n",
            "Validation loss: 0.654274582862854\n",
            "Validation accuracy: 0.611\n",
            "==============================\n",
            "Avg loss: 0.8576854467391968\n",
            "Accuracy: 0.5453333333333333\n",
            "Validation loss: 0.6373049020767212\n",
            "Validation accuracy: 0.634\n",
            "==============================\n",
            "Avg loss: 0.8359507322311401\n",
            "Accuracy: 0.5522592592592592\n",
            "Validation loss: 0.6521750092506409\n",
            "Validation accuracy: 0.615\n",
            "==============================\n",
            "Avg loss: 0.8159997463226318\n",
            "Accuracy: 0.5618666666666666\n",
            "Validation loss: 0.6452956199645996\n",
            "Validation accuracy: 0.612\n",
            "==============================\n",
            "Avg loss: 0.799311101436615\n",
            "Accuracy: 0.5694848484848485\n",
            "Validation loss: 0.6021605730056763\n",
            "Validation accuracy: 0.693\n",
            "==============================\n",
            "Avg loss: 0.7845206260681152\n",
            "Accuracy: 0.5764722222222223\n",
            "Validation loss: 0.5848787426948547\n",
            "Validation accuracy: 0.699\n",
            "==============================\n",
            "EPOCH 2/3 started==============================\n"
          ]
        },
        {
          "data": {
            "application/vnd.jupyter.widget-view+json": {
              "model_id": "f3d328bd206d4595bf7d943fadc57f34",
              "version_major": 2,
              "version_minor": 0
            },
            "text/plain": [
              "  0%|          | 0/37981 [00:00<?, ?it/s]"
            ]
          },
          "metadata": {},
          "output_type": "display_data"
        },
        {
          "metadata": {
            "tags": null
          },
          "name": "stdout",
          "output_type": "stream",
          "text": [
            "Avg loss: 0.7708649635314941\n",
            "Accuracy: 0.5837179487179487\n",
            "Validation loss: 0.6090788841247559\n",
            "Validation accuracy: 0.694\n",
            "==============================\n",
            "Avg loss: 0.7571638226509094\n",
            "Accuracy: 0.5916666666666667\n",
            "Validation loss: 0.5822297930717468\n",
            "Validation accuracy: 0.699\n",
            "==============================\n",
            "Avg loss: 0.7468013167381287\n",
            "Accuracy: 0.5973333333333334\n",
            "Validation loss: 0.5639436841011047\n",
            "Validation accuracy: 0.708\n",
            "==============================\n",
            "Avg loss: 0.7365172505378723\n",
            "Accuracy: 0.6037708333333334\n",
            "Validation loss: 0.5492985844612122\n",
            "Validation accuracy: 0.707\n",
            "==============================\n",
            "Avg loss: 0.7269856333732605\n",
            "Accuracy: 0.609686274509804\n",
            "Validation loss: 0.5471891164779663\n",
            "Validation accuracy: 0.726\n",
            "==============================\n",
            "Avg loss: 0.7190767526626587\n",
            "Accuracy: 0.6147222222222222\n",
            "Validation loss: 0.5451328754425049\n",
            "Validation accuracy: 0.738\n",
            "==============================\n",
            "Avg loss: 0.7115598320960999\n",
            "Accuracy: 0.6196315789473684\n",
            "Validation loss: 0.5318534970283508\n",
            "Validation accuracy: 0.74\n",
            "==============================\n",
            "Avg loss: 0.704997718334198\n",
            "Accuracy: 0.62405\n",
            "Validation loss: 0.5441215634346008\n",
            "Validation accuracy: 0.725\n",
            "==============================\n",
            "Avg loss: 0.698457658290863\n",
            "Accuracy: 0.6282698412698413\n",
            "Validation loss: 0.5179951786994934\n",
            "Validation accuracy: 0.743\n",
            "==============================\n",
            "Avg loss: 0.6923932433128357\n",
            "Accuracy: 0.631969696969697\n",
            "Validation loss: 0.5415694713592529\n",
            "Validation accuracy: 0.73\n",
            "==============================\n",
            "Avg loss: 0.6864960789680481\n",
            "Accuracy: 0.6358840579710144\n",
            "Validation loss: 0.5176754593849182\n",
            "Validation accuracy: 0.757\n",
            "==============================\n",
            "Avg loss: 0.6809179186820984\n",
            "Accuracy: 0.6399861111111111\n",
            "Validation loss: 0.528003454208374\n",
            "Validation accuracy: 0.751\n",
            "==============================\n",
            "Avg loss: 0.6761282086372375\n",
            "Accuracy: 0.6430133333333333\n",
            "Validation loss: 0.5411171913146973\n",
            "Validation accuracy: 0.725\n",
            "==============================\n",
            "EPOCH 3/3 started==============================\n"
          ]
        },
        {
          "data": {
            "application/vnd.jupyter.widget-view+json": {
              "model_id": "dbadd5f54b484c45aa4259d5d1f671e8",
              "version_major": 2,
              "version_minor": 0
            },
            "text/plain": [
              "  0%|          | 0/37981 [00:00<?, ?it/s]"
            ]
          },
          "metadata": {},
          "output_type": "display_data"
        },
        {
          "output_type": "stream",
          "name": "stdout",
          "text": [
            "Avg loss: 0.6709775924682617\n",
            "Accuracy: 0.6464871794871795\n",
            "Validation loss: 0.5558394193649292\n",
            "Validation accuracy: 0.717\n",
            "==============================\n",
            "Avg loss: 0.6662015318870544\n",
            "Accuracy: 0.6496543209876543\n",
            "Validation loss: 0.5112429261207581\n",
            "Validation accuracy: 0.76\n",
            "==============================\n",
            "Avg loss: 0.6614426374435425\n",
            "Accuracy: 0.6528095238095238\n",
            "Validation loss: 0.49942901730537415\n",
            "Validation accuracy: 0.768\n",
            "==============================\n",
            "Avg loss: 0.6574260592460632\n",
            "Accuracy: 0.655183908045977\n",
            "Validation loss: 0.49802061915397644\n",
            "Validation accuracy: 0.77\n",
            "==============================\n",
            "Avg loss: 0.653327465057373\n",
            "Accuracy: 0.6583444444444444\n",
            "Validation loss: 0.4872508943080902\n",
            "Validation accuracy: 0.78\n",
            "==============================\n",
            "Avg loss: 0.6497253775596619\n",
            "Accuracy: 0.6606236559139785\n",
            "Validation loss: 0.5082315802574158\n",
            "Validation accuracy: 0.774\n",
            "==============================\n",
            "Avg loss: 0.645699143409729\n",
            "Accuracy: 0.6630520833333333\n",
            "Validation loss: 0.49730274081230164\n",
            "Validation accuracy: 0.775\n",
            "==============================\n",
            "Avg loss: 0.6413031220436096\n",
            "Accuracy: 0.6662424242424242\n",
            "Validation loss: 0.5138555765151978\n",
            "Validation accuracy: 0.757\n",
            "==============================\n",
            "Avg loss: 0.6375632882118225\n",
            "Accuracy: 0.6688039215686274\n",
            "Validation loss: 0.5008336305618286\n",
            "Validation accuracy: 0.752\n",
            "==============================\n",
            "Avg loss: 0.634175181388855\n",
            "Accuracy: 0.6712285714285714\n",
            "Validation loss: 0.49546095728874207\n",
            "Validation accuracy: 0.773\n",
            "==============================\n",
            "Avg loss: 0.6308516263961792\n",
            "Accuracy: 0.6734351851851852\n",
            "Validation loss: 0.4833279252052307\n",
            "Validation accuracy: 0.781\n",
            "==============================\n",
            "Avg loss: 0.6276481747627258\n",
            "Accuracy: 0.6754324324324325\n",
            "Validation loss: 0.5318601727485657\n",
            "Validation accuracy: 0.74\n",
            "==============================\n"
          ]
        }
      ]
    },
    {
      "cell_type": "code",
      "execution_count": null,
      "metadata": {
        "colab": {
          "base_uri": "https://localhost:8080/"
        },
        "id": "EPpvyXO9HDTS",
        "outputId": "1bb19303-aa61-49d2-f355-48d0fb89c67b"
      },
      "outputs": [
        {
          "output_type": "stream",
          "name": "stdout",
          "text": [
            "Validation loss: 0.5318601727485657\n",
            "Validation accuracy: 0.74\n"
          ]
        }
      ],
      "source": [
        "print(f\"Validation loss: {val_avg_loss}\")\n",
        "print(f\"Validation accuracy: {val_accuracy}\")"
      ]
    },
    {
      "cell_type": "markdown",
      "source": [
        "#Zapisywanie wytrenowanego soft-prompt"
      ],
      "metadata": {
        "id": "H-ZbRiYMYDCr"
      }
    },
    {
      "cell_type": "code",
      "execution_count": null,
      "metadata": {
        "colab": {
          "base_uri": "https://localhost:8080/"
        },
        "id": "IORlPDleVML_",
        "outputId": "b9cabbff-0b39-44f0-d664-05bec1e91332"
      },
      "outputs": [
        {
          "output_type": "execute_result",
          "data": {
            "text/plain": [
              "tensor([[ 0.0584,  0.0360, -0.7854,  ..., -0.4388, -0.2693, -0.6238],\n",
              "        [ 0.4492, -0.4090, -0.2128,  ...,  0.5394, -0.3928, -0.5798],\n",
              "        [ 0.3308, -0.1616,  0.1343,  ...,  0.2569,  0.2870, -0.4862],\n",
              "        ...,\n",
              "        [ 0.7763, -0.4408, -0.0224,  ...,  0.0685, -0.1097, -0.2956],\n",
              "        [ 0.1662, -0.3315, -0.5440,  ..., -0.0763, -0.1549,  0.1164],\n",
              "        [-0.2089, -0.2048,  0.0958,  ...,  0.3468, -0.2298,  0.2133]],\n",
              "       requires_grad=True)"
            ]
          },
          "metadata": {},
          "execution_count": 40
        }
      ],
      "source": [
        "soft_prompt"
      ]
    },
    {
      "cell_type": "code",
      "source": [
        "sf_file_name = f\"{SOFT_PROMPT_PATH}/soft_prompt_{soft_prompt_len}_e{EPOCHS}_lr{LEARNING_RATE}.pt\""
      ],
      "metadata": {
        "id": "qnru_buZYZGA"
      },
      "execution_count": null,
      "outputs": []
    },
    {
      "cell_type": "code",
      "source": [
        "torch.save(soft_prompt, sf_file_name)"
      ],
      "metadata": {
        "id": "_XxBuOfaXN3e"
      },
      "execution_count": null,
      "outputs": []
    },
    {
      "cell_type": "code",
      "source": [
        "sf = torch.load(sf_file_name)"
      ],
      "metadata": {
        "id": "oLKFOz2YYWKH"
      },
      "execution_count": null,
      "outputs": []
    },
    {
      "cell_type": "code",
      "source": [
        "sf"
      ],
      "metadata": {
        "colab": {
          "base_uri": "https://localhost:8080/"
        },
        "id": "LbGs9UtVvjJa",
        "outputId": "8f05347c-c240-45fd-d98d-b7e2d1c6bb04"
      },
      "execution_count": null,
      "outputs": [
        {
          "output_type": "execute_result",
          "data": {
            "text/plain": [
              "tensor([[ 0.0584,  0.0360, -0.7854,  ..., -0.4388, -0.2693, -0.6238],\n",
              "        [ 0.4492, -0.4090, -0.2128,  ...,  0.5394, -0.3928, -0.5798],\n",
              "        [ 0.3308, -0.1616,  0.1343,  ...,  0.2569,  0.2870, -0.4862],\n",
              "        ...,\n",
              "        [ 0.7763, -0.4408, -0.0224,  ...,  0.0685, -0.1097, -0.2956],\n",
              "        [ 0.1662, -0.3315, -0.5440,  ..., -0.0763, -0.1549,  0.1164],\n",
              "        [-0.2089, -0.2048,  0.0958,  ...,  0.3468, -0.2298,  0.2133]],\n",
              "       requires_grad=True)"
            ]
          },
          "metadata": {},
          "execution_count": 46
        }
      ]
    },
    {
      "cell_type": "code",
      "source": [
        "sf.shape"
      ],
      "metadata": {
        "colab": {
          "base_uri": "https://localhost:8080/"
        },
        "id": "E94HRd7YwiBP",
        "outputId": "bc23f9db-327e-457b-ecc6-fd64cd4fa62f"
      },
      "execution_count": null,
      "outputs": [
        {
          "output_type": "execute_result",
          "data": {
            "text/plain": [
              "torch.Size([10, 1024])"
            ]
          },
          "metadata": {},
          "execution_count": 47
        }
      ]
    },
    {
      "cell_type": "code",
      "source": [
        "avg_loss, val_accuracy = validation(val_qsa_dataloader, sf)\n",
        "print(f\"Average loss = {avg_loss}\")\n",
        "print(f\"Validation accuracy = {val_accuracy}\")"
      ],
      "metadata": {
        "colab": {
          "base_uri": "https://localhost:8080/"
        },
        "id": "UWlOtug-yklk",
        "outputId": "51751252-ee1b-4993-9704-4bfca3bc254b"
      },
      "execution_count": null,
      "outputs": [
        {
          "output_type": "stream",
          "name": "stdout",
          "text": [
            "Average loss = 0.48776063323020935\n",
            "Validation accuracy = 0.773\n"
          ]
        }
      ]
    },
    {
      "cell_type": "markdown",
      "metadata": {
        "id": "H7twhGEWtw1z"
      },
      "source": [
        "#Stały prompt"
      ]
    },
    {
      "cell_type": "markdown",
      "source": [
        "Eksperyment ze stałym promptem."
      ],
      "metadata": {
        "id": "pz-X7ijUZwxD"
      }
    },
    {
      "cell_type": "code",
      "execution_count": null,
      "metadata": {
        "id": "6_zpwi5Ct5H_"
      },
      "outputs": [],
      "source": [
        "custom_prompt = \"Does the sentence contain the answer for the question?\""
      ]
    },
    {
      "cell_type": "code",
      "execution_count": null,
      "metadata": {
        "id": "zszQpdbquEyX"
      },
      "outputs": [],
      "source": [
        "inputs = tokenizer.encode(custom_prompt, return_tensors=\"pt\")\n",
        "embeds = model.transformer.wte.weight[inputs, :]"
      ]
    },
    {
      "cell_type": "code",
      "source": [
        "embeds"
      ],
      "metadata": {
        "colab": {
          "base_uri": "https://localhost:8080/"
        },
        "id": "6gMtj4CEwaA5",
        "outputId": "c59e0866-c711-4d4e-f511-532d38f9b8ff"
      },
      "execution_count": null,
      "outputs": [
        {
          "output_type": "execute_result",
          "data": {
            "text/plain": [
              "tensor([[[-0.2312, -0.0091, -0.0465,  ...,  0.0177, -0.0531, -0.0275],\n",
              "         [ 0.0142,  0.0163, -0.0657,  ..., -0.0232, -0.0290,  0.0027],\n",
              "         [ 0.1174, -0.0582,  0.1042,  ..., -0.1245, -0.0112, -0.0133],\n",
              "         ...,\n",
              "         [ 0.0142,  0.0163, -0.0657,  ..., -0.0232, -0.0290,  0.0027],\n",
              "         [-0.0520, -0.1040, -0.0225,  ..., -0.1032, -0.0670,  0.1041],\n",
              "         [-0.0013, -0.0649, -0.0011,  ..., -0.0340, -0.0065, -0.0072]]],\n",
              "       device='cuda:0')"
            ]
          },
          "metadata": {},
          "execution_count": 51
        }
      ]
    },
    {
      "cell_type": "code",
      "source": [
        "embeds.squeeze().shape"
      ],
      "metadata": {
        "colab": {
          "base_uri": "https://localhost:8080/"
        },
        "id": "tXvs55kxweVB",
        "outputId": "a1ebb686-75d3-4a90-d514-54292011f724"
      },
      "execution_count": null,
      "outputs": [
        {
          "output_type": "execute_result",
          "data": {
            "text/plain": [
              "torch.Size([10, 1024])"
            ]
          },
          "metadata": {},
          "execution_count": 52
        }
      ]
    },
    {
      "cell_type": "code",
      "execution_count": null,
      "metadata": {
        "id": "OZVUoCoYtzII",
        "colab": {
          "base_uri": "https://localhost:8080/"
        },
        "outputId": "696e6ad6-df62-42c8-87e3-d524d09bd10a"
      },
      "outputs": [
        {
          "output_type": "stream",
          "name": "stdout",
          "text": [
            "Average loss = 11.535232543945312\n",
            "Validation accuracy = 0.0\n"
          ]
        }
      ],
      "source": [
        "avg_loss, val_accuracy = validation(val_qsa_dataloader, embeds.squeeze())\n",
        "print(f\"Average loss = {avg_loss}\")\n",
        "print(f\"Validation accuracy = {val_accuracy}\")"
      ]
    },
    {
      "cell_type": "markdown",
      "source": [
        "#Stały few-shot prompt"
      ],
      "metadata": {
        "id": "LB1aOTy8yzhB"
      }
    },
    {
      "cell_type": "markdown",
      "source": [
        "Eksperyment ze stałym promptem z dwoma przykładami."
      ],
      "metadata": {
        "id": "Ip9P3PdrZ_H1"
      }
    },
    {
      "cell_type": "code",
      "source": [
        "few_shot_prompt = '''Does the sentence contain the answer for the question? Question: What animal is fluffy and furry?; Sentence: the cat sleeps on a windowsill; Answer:yes\n",
        "  Does the sentence contain the answer for the question? Question: What can be used to cut bread?; Sentence: a person on a bike; Answer:no\n",
        "  Does the sentence contain the answer for the question? '''"
      ],
      "metadata": {
        "id": "yefgiIUuy1aH"
      },
      "execution_count": null,
      "outputs": []
    },
    {
      "cell_type": "code",
      "source": [
        "inputs = tokenizer.encode(few_shot_prompt, return_tensors=\"pt\")\n",
        "embeds = model.transformer.wte.weight[inputs, :]"
      ],
      "metadata": {
        "id": "76ZqsJvIy3-F"
      },
      "execution_count": null,
      "outputs": []
    },
    {
      "cell_type": "code",
      "source": [
        "avg_loss, val_accuracy = validation(val_qsa_dataloader, embeds.squeeze())\n",
        "print(f\"Average loss = {avg_loss}\")\n",
        "print(f\"Validation accuracy = {val_accuracy}\")"
      ],
      "metadata": {
        "colab": {
          "base_uri": "https://localhost:8080/"
        },
        "id": "qmDgfpIVy6ab",
        "outputId": "18ce076c-33c9-4683-c26c-36403d4d996f"
      },
      "execution_count": null,
      "outputs": [
        {
          "output_type": "stream",
          "name": "stdout",
          "text": [
            "Average loss = 3.1307263374328613\n",
            "Validation accuracy = 0.143\n"
          ]
        }
      ]
    },
    {
      "cell_type": "markdown",
      "source": [
        "#Stały, dłuższy few-shot prompt"
      ],
      "metadata": {
        "id": "y7T8JXuwPJCp"
      }
    },
    {
      "cell_type": "markdown",
      "source": [
        "Eksperyment ze stałym promptem z czterema przykładami."
      ],
      "metadata": {
        "id": "HYN3nbC2aMjc"
      }
    },
    {
      "cell_type": "code",
      "source": [
        "few_shot_prompt = '''Does the sentence contain the answer for the question? Question: What animal is fluffy and furry?; Sentence: the cat sleeps on a windowsill; Answer:yes\n",
        "  Does the sentence contain the answer for the question? Question: What can be used to cut bread?; Sentence: a person on a bike; Answer:no\n",
        "  Does the sentence contain the answer for the question? Question: What protects skin from the sun?; Sentence: a boy playing tennis; Answer:no\n",
        "  Does the sentence contain the answer for the question? Question: What people use to see better?; Sentence: cat in funny glasses; Answer:yes\n",
        "  Does the sentence contain the answer for the question? '''"
      ],
      "metadata": {
        "id": "c3z448zJPLg5"
      },
      "execution_count": null,
      "outputs": []
    },
    {
      "cell_type": "code",
      "source": [
        "inputs = tokenizer.encode(few_shot_prompt, return_tensors=\"pt\")\n",
        "embeds = model.transformer.wte.weight[inputs, :]"
      ],
      "metadata": {
        "id": "q88WGjKiPNRY"
      },
      "execution_count": null,
      "outputs": []
    },
    {
      "cell_type": "code",
      "source": [
        "avg_loss, val_accuracy = validation(val_qsa_dataloader, embeds.squeeze())\n",
        "print(f\"Average loss = {avg_loss}\")\n",
        "print(f\"Validation accuracy = {val_accuracy}\")"
      ],
      "metadata": {
        "colab": {
          "base_uri": "https://localhost:8080/"
        },
        "id": "_C169kknPPzN",
        "outputId": "55c9d60e-6fd1-45db-ceec-59a19ab8a02a"
      },
      "execution_count": null,
      "outputs": [
        {
          "output_type": "stream",
          "name": "stdout",
          "text": [
            "Average loss = 1.869977593421936\n",
            "Validation accuracy = 0.404\n"
          ]
        }
      ]
    },
    {
      "cell_type": "markdown",
      "source": [
        "#Interpretacja soft-prompt"
      ],
      "metadata": {
        "id": "QrhWXzQkSNRV"
      }
    },
    {
      "cell_type": "markdown",
      "source": [
        "Próba znalezienia znaczenia wytrenowanego soft-promptu poprzez znalezienie najbliższych wektorów w przestrzeni wektorów embeddingów tokenizera."
      ],
      "metadata": {
        "id": "wjxhIsjQaQ8-"
      }
    },
    {
      "cell_type": "code",
      "source": [
        "sf_file_name = \"/content/drive/MyDrive/Colab Notebooks/PW PROJEKT/csvs/dets/soft_prompt/soft_prompt_10_e3_lr0.001.pt\""
      ],
      "metadata": {
        "id": "sLc_W86ESsF2"
      },
      "execution_count": null,
      "outputs": []
    },
    {
      "cell_type": "code",
      "source": [
        "sp = torch.load(sf_file_name)"
      ],
      "metadata": {
        "id": "-aD9dhTXSLso"
      },
      "execution_count": null,
      "outputs": []
    },
    {
      "cell_type": "code",
      "source": [
        "sp.to(device)"
      ],
      "metadata": {
        "colab": {
          "base_uri": "https://localhost:8080/"
        },
        "id": "LyZtFrlDXiKT",
        "outputId": "6d05322b-d4bc-45dc-bd67-b01ee38da960"
      },
      "execution_count": null,
      "outputs": [
        {
          "output_type": "execute_result",
          "data": {
            "text/plain": [
              "tensor([[ 0.0584,  0.0360, -0.7854,  ..., -0.4388, -0.2693, -0.6238],\n",
              "        [ 0.4492, -0.4090, -0.2128,  ...,  0.5394, -0.3928, -0.5798],\n",
              "        [ 0.3308, -0.1616,  0.1343,  ...,  0.2569,  0.2870, -0.4862],\n",
              "        ...,\n",
              "        [ 0.7763, -0.4408, -0.0224,  ...,  0.0685, -0.1097, -0.2956],\n",
              "        [ 0.1662, -0.3315, -0.5440,  ..., -0.0763, -0.1549,  0.1164],\n",
              "        [-0.2089, -0.2048,  0.0958,  ...,  0.3468, -0.2298,  0.2133]],\n",
              "       device='cuda:0', grad_fn=<ToCopyBackward0>)"
            ]
          },
          "metadata": {},
          "execution_count": 46
        }
      ]
    },
    {
      "cell_type": "code",
      "source": [
        "sp.shape"
      ],
      "metadata": {
        "colab": {
          "base_uri": "https://localhost:8080/"
        },
        "id": "2SbphI-4Sxx9",
        "outputId": "8306b3fa-dcd0-4d52-e0bd-a22d9dc57adb"
      },
      "execution_count": null,
      "outputs": [
        {
          "output_type": "execute_result",
          "data": {
            "text/plain": [
              "torch.Size([10, 1024])"
            ]
          },
          "metadata": {},
          "execution_count": 39
        }
      ]
    },
    {
      "cell_type": "code",
      "source": [
        "all_embeds = model.transformer.wte.weight[:, :]"
      ],
      "metadata": {
        "id": "ujvvu-ooVj9Z"
      },
      "execution_count": null,
      "outputs": []
    },
    {
      "cell_type": "code",
      "source": [
        "all_embeds.to(device)"
      ],
      "metadata": {
        "colab": {
          "base_uri": "https://localhost:8080/"
        },
        "id": "BswA_9RuVsOK",
        "outputId": "77462f30-a1d1-4cdb-9cf7-b0b48ef5afaa"
      },
      "execution_count": null,
      "outputs": [
        {
          "output_type": "execute_result",
          "data": {
            "text/plain": [
              "tensor([[-0.0115,  0.0031, -0.0073,  ..., -0.0526, -0.1757,  0.0257],\n",
              "        [-0.0086,  0.0636, -0.0182,  ..., -0.0136, -0.1215,  0.0535],\n",
              "        [ 0.0585,  0.0689,  0.0262,  ..., -0.1006, -0.1979, -0.0039],\n",
              "        ...,\n",
              "        [ 0.0016, -0.0441, -0.0517,  ..., -0.1008, -0.0087,  0.0264],\n",
              "        [-0.1437, -0.0463, -0.0065,  ...,  0.0746, -0.0472, -0.0383],\n",
              "        [ 0.0207, -0.0133, -0.0259,  ...,  0.0389, -0.0023,  0.0011]],\n",
              "       device='cuda:0')"
            ]
          },
          "metadata": {},
          "execution_count": 49
        }
      ]
    },
    {
      "cell_type": "code",
      "source": [
        "token_list = []\n",
        "for s in sp:\n",
        "  min_idx = torch.norm(s.to(device) - all_embeds.unsqueeze(0), dim=1).argmin()\n",
        "  token_list.append(min_idx.detach().item())\n",
        "print(token_list)"
      ],
      "metadata": {
        "colab": {
          "base_uri": "https://localhost:8080/"
        },
        "id": "6OwTUXVfWZwL",
        "outputId": "461200a0-259d-49d3-adb5-1cd86ca597ab"
      },
      "execution_count": null,
      "outputs": [
        {
          "output_type": "stream",
          "name": "stdout",
          "text": [
            "[968, 805, 909, 671, 364, 671, 729, 433, 262, 729]\n"
          ]
        }
      ]
    },
    {
      "cell_type": "code",
      "source": [
        "tokens = tokenizer.convert_ids_to_tokens(token_list)\n",
        "tokens"
      ],
      "metadata": {
        "colab": {
          "base_uri": "https://localhost:8080/"
        },
        "id": "uc9I8TtLZm6c",
        "outputId": "00df1610-87fc-41df-c277-f5d35506a35d"
      },
      "execution_count": null,
      "outputs": [
        {
          "output_type": "execute_result",
          "data": {
            "text/plain": [
              "['ĠNew', 'man', 'Ġob', 'ade', 'ers', 'ade', 'ater', 'art', 'Ġthe', 'ater']"
            ]
          },
          "metadata": {},
          "execution_count": 61
        }
      ]
    },
    {
      "cell_type": "code",
      "source": [
        "tokenizer.convert_tokens_to_string(tokens)"
      ],
      "metadata": {
        "colab": {
          "base_uri": "https://localhost:8080/",
          "height": 35
        },
        "id": "NGCHhzzdZ6MS",
        "outputId": "a24b935b-43e2-45ee-e5f9-d0e9944d3aea"
      },
      "execution_count": null,
      "outputs": [
        {
          "output_type": "execute_result",
          "data": {
            "text/plain": [
              "' Newman obadeersadeaterart theater'"
            ],
            "application/vnd.google.colaboratory.intrinsic+json": {
              "type": "string"
            }
          },
          "metadata": {},
          "execution_count": 62
        }
      ]
    }
  ],
  "metadata": {
    "accelerator": "GPU",
    "colab": {
      "provenance": [],
      "toc_visible": true
    },
    "kernelspec": {
      "display_name": "Python 3",
      "name": "python3"
    },
    "language_info": {
      "name": "python"
    },
    "widgets": {
      "application/vnd.jupyter.widget-state+json": {
        "f209670a87d8467e9b9d32b09a6798c4": {
          "model_module": "@jupyter-widgets/controls",
          "model_name": "HBoxModel",
          "model_module_version": "1.5.0",
          "state": {
            "_dom_classes": [],
            "_model_module": "@jupyter-widgets/controls",
            "_model_module_version": "1.5.0",
            "_model_name": "HBoxModel",
            "_view_count": null,
            "_view_module": "@jupyter-widgets/controls",
            "_view_module_version": "1.5.0",
            "_view_name": "HBoxView",
            "box_style": "",
            "children": [
              "IPY_MODEL_173819670d6644d1a55860ee945d70b8",
              "IPY_MODEL_6e6622a378b940959a5a425c9488403f",
              "IPY_MODEL_5840adb9aa1d4c2886cef797b6211a72"
            ],
            "layout": "IPY_MODEL_1029c0b0bc04414bb627d137a03b6298"
          }
        },
        "173819670d6644d1a55860ee945d70b8": {
          "model_module": "@jupyter-widgets/controls",
          "model_name": "HTMLModel",
          "model_module_version": "1.5.0",
          "state": {
            "_dom_classes": [],
            "_model_module": "@jupyter-widgets/controls",
            "_model_module_version": "1.5.0",
            "_model_name": "HTMLModel",
            "_view_count": null,
            "_view_module": "@jupyter-widgets/controls",
            "_view_module_version": "1.5.0",
            "_view_name": "HTMLView",
            "description": "",
            "description_tooltip": null,
            "layout": "IPY_MODEL_3952f3c50d6f4f5baa1cf7b69c357257",
            "placeholder": "​",
            "style": "IPY_MODEL_14952b3e8428481b99aea59e87b1c267",
            "value": "100%"
          }
        },
        "6e6622a378b940959a5a425c9488403f": {
          "model_module": "@jupyter-widgets/controls",
          "model_name": "FloatProgressModel",
          "model_module_version": "1.5.0",
          "state": {
            "_dom_classes": [],
            "_model_module": "@jupyter-widgets/controls",
            "_model_module_version": "1.5.0",
            "_model_name": "FloatProgressModel",
            "_view_count": null,
            "_view_module": "@jupyter-widgets/controls",
            "_view_module_version": "1.5.0",
            "_view_name": "ProgressView",
            "bar_style": "success",
            "description": "",
            "description_tooltip": null,
            "layout": "IPY_MODEL_7121df7d519e40b09be3e61d92bd8ff0",
            "max": 37981,
            "min": 0,
            "orientation": "horizontal",
            "style": "IPY_MODEL_d76bb6489180429c85e4fe50f29c3220",
            "value": 37981
          }
        },
        "5840adb9aa1d4c2886cef797b6211a72": {
          "model_module": "@jupyter-widgets/controls",
          "model_name": "HTMLModel",
          "model_module_version": "1.5.0",
          "state": {
            "_dom_classes": [],
            "_model_module": "@jupyter-widgets/controls",
            "_model_module_version": "1.5.0",
            "_model_name": "HTMLModel",
            "_view_count": null,
            "_view_module": "@jupyter-widgets/controls",
            "_view_module_version": "1.5.0",
            "_view_name": "HTMLView",
            "description": "",
            "description_tooltip": null,
            "layout": "IPY_MODEL_a1d42e3f7b374152befc5ec0293438fe",
            "placeholder": "​",
            "style": "IPY_MODEL_75f34b3d1cf04ece84370802af3e3edd",
            "value": " 37981/37981 [1:04:42&lt;00:00, 11.85it/s]"
          }
        },
        "1029c0b0bc04414bb627d137a03b6298": {
          "model_module": "@jupyter-widgets/base",
          "model_name": "LayoutModel",
          "model_module_version": "1.2.0",
          "state": {
            "_model_module": "@jupyter-widgets/base",
            "_model_module_version": "1.2.0",
            "_model_name": "LayoutModel",
            "_view_count": null,
            "_view_module": "@jupyter-widgets/base",
            "_view_module_version": "1.2.0",
            "_view_name": "LayoutView",
            "align_content": null,
            "align_items": null,
            "align_self": null,
            "border": null,
            "bottom": null,
            "display": null,
            "flex": null,
            "flex_flow": null,
            "grid_area": null,
            "grid_auto_columns": null,
            "grid_auto_flow": null,
            "grid_auto_rows": null,
            "grid_column": null,
            "grid_gap": null,
            "grid_row": null,
            "grid_template_areas": null,
            "grid_template_columns": null,
            "grid_template_rows": null,
            "height": null,
            "justify_content": null,
            "justify_items": null,
            "left": null,
            "margin": null,
            "max_height": null,
            "max_width": null,
            "min_height": null,
            "min_width": null,
            "object_fit": null,
            "object_position": null,
            "order": null,
            "overflow": null,
            "overflow_x": null,
            "overflow_y": null,
            "padding": null,
            "right": null,
            "top": null,
            "visibility": null,
            "width": null
          }
        },
        "3952f3c50d6f4f5baa1cf7b69c357257": {
          "model_module": "@jupyter-widgets/base",
          "model_name": "LayoutModel",
          "model_module_version": "1.2.0",
          "state": {
            "_model_module": "@jupyter-widgets/base",
            "_model_module_version": "1.2.0",
            "_model_name": "LayoutModel",
            "_view_count": null,
            "_view_module": "@jupyter-widgets/base",
            "_view_module_version": "1.2.0",
            "_view_name": "LayoutView",
            "align_content": null,
            "align_items": null,
            "align_self": null,
            "border": null,
            "bottom": null,
            "display": null,
            "flex": null,
            "flex_flow": null,
            "grid_area": null,
            "grid_auto_columns": null,
            "grid_auto_flow": null,
            "grid_auto_rows": null,
            "grid_column": null,
            "grid_gap": null,
            "grid_row": null,
            "grid_template_areas": null,
            "grid_template_columns": null,
            "grid_template_rows": null,
            "height": null,
            "justify_content": null,
            "justify_items": null,
            "left": null,
            "margin": null,
            "max_height": null,
            "max_width": null,
            "min_height": null,
            "min_width": null,
            "object_fit": null,
            "object_position": null,
            "order": null,
            "overflow": null,
            "overflow_x": null,
            "overflow_y": null,
            "padding": null,
            "right": null,
            "top": null,
            "visibility": null,
            "width": null
          }
        },
        "14952b3e8428481b99aea59e87b1c267": {
          "model_module": "@jupyter-widgets/controls",
          "model_name": "DescriptionStyleModel",
          "model_module_version": "1.5.0",
          "state": {
            "_model_module": "@jupyter-widgets/controls",
            "_model_module_version": "1.5.0",
            "_model_name": "DescriptionStyleModel",
            "_view_count": null,
            "_view_module": "@jupyter-widgets/base",
            "_view_module_version": "1.2.0",
            "_view_name": "StyleView",
            "description_width": ""
          }
        },
        "7121df7d519e40b09be3e61d92bd8ff0": {
          "model_module": "@jupyter-widgets/base",
          "model_name": "LayoutModel",
          "model_module_version": "1.2.0",
          "state": {
            "_model_module": "@jupyter-widgets/base",
            "_model_module_version": "1.2.0",
            "_model_name": "LayoutModel",
            "_view_count": null,
            "_view_module": "@jupyter-widgets/base",
            "_view_module_version": "1.2.0",
            "_view_name": "LayoutView",
            "align_content": null,
            "align_items": null,
            "align_self": null,
            "border": null,
            "bottom": null,
            "display": null,
            "flex": null,
            "flex_flow": null,
            "grid_area": null,
            "grid_auto_columns": null,
            "grid_auto_flow": null,
            "grid_auto_rows": null,
            "grid_column": null,
            "grid_gap": null,
            "grid_row": null,
            "grid_template_areas": null,
            "grid_template_columns": null,
            "grid_template_rows": null,
            "height": null,
            "justify_content": null,
            "justify_items": null,
            "left": null,
            "margin": null,
            "max_height": null,
            "max_width": null,
            "min_height": null,
            "min_width": null,
            "object_fit": null,
            "object_position": null,
            "order": null,
            "overflow": null,
            "overflow_x": null,
            "overflow_y": null,
            "padding": null,
            "right": null,
            "top": null,
            "visibility": null,
            "width": null
          }
        },
        "d76bb6489180429c85e4fe50f29c3220": {
          "model_module": "@jupyter-widgets/controls",
          "model_name": "ProgressStyleModel",
          "model_module_version": "1.5.0",
          "state": {
            "_model_module": "@jupyter-widgets/controls",
            "_model_module_version": "1.5.0",
            "_model_name": "ProgressStyleModel",
            "_view_count": null,
            "_view_module": "@jupyter-widgets/base",
            "_view_module_version": "1.2.0",
            "_view_name": "StyleView",
            "bar_color": null,
            "description_width": ""
          }
        },
        "a1d42e3f7b374152befc5ec0293438fe": {
          "model_module": "@jupyter-widgets/base",
          "model_name": "LayoutModel",
          "model_module_version": "1.2.0",
          "state": {
            "_model_module": "@jupyter-widgets/base",
            "_model_module_version": "1.2.0",
            "_model_name": "LayoutModel",
            "_view_count": null,
            "_view_module": "@jupyter-widgets/base",
            "_view_module_version": "1.2.0",
            "_view_name": "LayoutView",
            "align_content": null,
            "align_items": null,
            "align_self": null,
            "border": null,
            "bottom": null,
            "display": null,
            "flex": null,
            "flex_flow": null,
            "grid_area": null,
            "grid_auto_columns": null,
            "grid_auto_flow": null,
            "grid_auto_rows": null,
            "grid_column": null,
            "grid_gap": null,
            "grid_row": null,
            "grid_template_areas": null,
            "grid_template_columns": null,
            "grid_template_rows": null,
            "height": null,
            "justify_content": null,
            "justify_items": null,
            "left": null,
            "margin": null,
            "max_height": null,
            "max_width": null,
            "min_height": null,
            "min_width": null,
            "object_fit": null,
            "object_position": null,
            "order": null,
            "overflow": null,
            "overflow_x": null,
            "overflow_y": null,
            "padding": null,
            "right": null,
            "top": null,
            "visibility": null,
            "width": null
          }
        },
        "75f34b3d1cf04ece84370802af3e3edd": {
          "model_module": "@jupyter-widgets/controls",
          "model_name": "DescriptionStyleModel",
          "model_module_version": "1.5.0",
          "state": {
            "_model_module": "@jupyter-widgets/controls",
            "_model_module_version": "1.5.0",
            "_model_name": "DescriptionStyleModel",
            "_view_count": null,
            "_view_module": "@jupyter-widgets/base",
            "_view_module_version": "1.2.0",
            "_view_name": "StyleView",
            "description_width": ""
          }
        },
        "f3d328bd206d4595bf7d943fadc57f34": {
          "model_module": "@jupyter-widgets/controls",
          "model_name": "HBoxModel",
          "model_module_version": "1.5.0",
          "state": {
            "_dom_classes": [],
            "_model_module": "@jupyter-widgets/controls",
            "_model_module_version": "1.5.0",
            "_model_name": "HBoxModel",
            "_view_count": null,
            "_view_module": "@jupyter-widgets/controls",
            "_view_module_version": "1.5.0",
            "_view_name": "HBoxView",
            "box_style": "",
            "children": [
              "IPY_MODEL_fb63af1f33a448bf9a04c25527e5e4a5",
              "IPY_MODEL_af35f43feb054681a91d673b5ff8d968",
              "IPY_MODEL_7e1b74d8fe194d11af78d33953531977"
            ],
            "layout": "IPY_MODEL_5a400c41a15c4c8bb6e022ad3e97f99d"
          }
        },
        "fb63af1f33a448bf9a04c25527e5e4a5": {
          "model_module": "@jupyter-widgets/controls",
          "model_name": "HTMLModel",
          "model_module_version": "1.5.0",
          "state": {
            "_dom_classes": [],
            "_model_module": "@jupyter-widgets/controls",
            "_model_module_version": "1.5.0",
            "_model_name": "HTMLModel",
            "_view_count": null,
            "_view_module": "@jupyter-widgets/controls",
            "_view_module_version": "1.5.0",
            "_view_name": "HTMLView",
            "description": "",
            "description_tooltip": null,
            "layout": "IPY_MODEL_8c2c8e602f734c17a721a1c6152ed986",
            "placeholder": "​",
            "style": "IPY_MODEL_a31ccdd1f1a44a3d8425d66b4ee327fc",
            "value": "100%"
          }
        },
        "af35f43feb054681a91d673b5ff8d968": {
          "model_module": "@jupyter-widgets/controls",
          "model_name": "FloatProgressModel",
          "model_module_version": "1.5.0",
          "state": {
            "_dom_classes": [],
            "_model_module": "@jupyter-widgets/controls",
            "_model_module_version": "1.5.0",
            "_model_name": "FloatProgressModel",
            "_view_count": null,
            "_view_module": "@jupyter-widgets/controls",
            "_view_module_version": "1.5.0",
            "_view_name": "ProgressView",
            "bar_style": "success",
            "description": "",
            "description_tooltip": null,
            "layout": "IPY_MODEL_6bfd8ebaa9c340eeafd1d46adcc949ed",
            "max": 37981,
            "min": 0,
            "orientation": "horizontal",
            "style": "IPY_MODEL_b4d951be03c848998dd7f237eb4f4a92",
            "value": 37981
          }
        },
        "7e1b74d8fe194d11af78d33953531977": {
          "model_module": "@jupyter-widgets/controls",
          "model_name": "HTMLModel",
          "model_module_version": "1.5.0",
          "state": {
            "_dom_classes": [],
            "_model_module": "@jupyter-widgets/controls",
            "_model_module_version": "1.5.0",
            "_model_name": "HTMLModel",
            "_view_count": null,
            "_view_module": "@jupyter-widgets/controls",
            "_view_module_version": "1.5.0",
            "_view_name": "HTMLView",
            "description": "",
            "description_tooltip": null,
            "layout": "IPY_MODEL_1805d64c9f65425e8e338f14ace5f1f0",
            "placeholder": "​",
            "style": "IPY_MODEL_f0abeab8bc1b48d390be73fcfaa4405d",
            "value": " 37981/37981 [1:23:06&lt;00:00,  5.38it/s]"
          }
        },
        "5a400c41a15c4c8bb6e022ad3e97f99d": {
          "model_module": "@jupyter-widgets/base",
          "model_name": "LayoutModel",
          "model_module_version": "1.2.0",
          "state": {
            "_model_module": "@jupyter-widgets/base",
            "_model_module_version": "1.2.0",
            "_model_name": "LayoutModel",
            "_view_count": null,
            "_view_module": "@jupyter-widgets/base",
            "_view_module_version": "1.2.0",
            "_view_name": "LayoutView",
            "align_content": null,
            "align_items": null,
            "align_self": null,
            "border": null,
            "bottom": null,
            "display": null,
            "flex": null,
            "flex_flow": null,
            "grid_area": null,
            "grid_auto_columns": null,
            "grid_auto_flow": null,
            "grid_auto_rows": null,
            "grid_column": null,
            "grid_gap": null,
            "grid_row": null,
            "grid_template_areas": null,
            "grid_template_columns": null,
            "grid_template_rows": null,
            "height": null,
            "justify_content": null,
            "justify_items": null,
            "left": null,
            "margin": null,
            "max_height": null,
            "max_width": null,
            "min_height": null,
            "min_width": null,
            "object_fit": null,
            "object_position": null,
            "order": null,
            "overflow": null,
            "overflow_x": null,
            "overflow_y": null,
            "padding": null,
            "right": null,
            "top": null,
            "visibility": null,
            "width": null
          }
        },
        "8c2c8e602f734c17a721a1c6152ed986": {
          "model_module": "@jupyter-widgets/base",
          "model_name": "LayoutModel",
          "model_module_version": "1.2.0",
          "state": {
            "_model_module": "@jupyter-widgets/base",
            "_model_module_version": "1.2.0",
            "_model_name": "LayoutModel",
            "_view_count": null,
            "_view_module": "@jupyter-widgets/base",
            "_view_module_version": "1.2.0",
            "_view_name": "LayoutView",
            "align_content": null,
            "align_items": null,
            "align_self": null,
            "border": null,
            "bottom": null,
            "display": null,
            "flex": null,
            "flex_flow": null,
            "grid_area": null,
            "grid_auto_columns": null,
            "grid_auto_flow": null,
            "grid_auto_rows": null,
            "grid_column": null,
            "grid_gap": null,
            "grid_row": null,
            "grid_template_areas": null,
            "grid_template_columns": null,
            "grid_template_rows": null,
            "height": null,
            "justify_content": null,
            "justify_items": null,
            "left": null,
            "margin": null,
            "max_height": null,
            "max_width": null,
            "min_height": null,
            "min_width": null,
            "object_fit": null,
            "object_position": null,
            "order": null,
            "overflow": null,
            "overflow_x": null,
            "overflow_y": null,
            "padding": null,
            "right": null,
            "top": null,
            "visibility": null,
            "width": null
          }
        },
        "a31ccdd1f1a44a3d8425d66b4ee327fc": {
          "model_module": "@jupyter-widgets/controls",
          "model_name": "DescriptionStyleModel",
          "model_module_version": "1.5.0",
          "state": {
            "_model_module": "@jupyter-widgets/controls",
            "_model_module_version": "1.5.0",
            "_model_name": "DescriptionStyleModel",
            "_view_count": null,
            "_view_module": "@jupyter-widgets/base",
            "_view_module_version": "1.2.0",
            "_view_name": "StyleView",
            "description_width": ""
          }
        },
        "6bfd8ebaa9c340eeafd1d46adcc949ed": {
          "model_module": "@jupyter-widgets/base",
          "model_name": "LayoutModel",
          "model_module_version": "1.2.0",
          "state": {
            "_model_module": "@jupyter-widgets/base",
            "_model_module_version": "1.2.0",
            "_model_name": "LayoutModel",
            "_view_count": null,
            "_view_module": "@jupyter-widgets/base",
            "_view_module_version": "1.2.0",
            "_view_name": "LayoutView",
            "align_content": null,
            "align_items": null,
            "align_self": null,
            "border": null,
            "bottom": null,
            "display": null,
            "flex": null,
            "flex_flow": null,
            "grid_area": null,
            "grid_auto_columns": null,
            "grid_auto_flow": null,
            "grid_auto_rows": null,
            "grid_column": null,
            "grid_gap": null,
            "grid_row": null,
            "grid_template_areas": null,
            "grid_template_columns": null,
            "grid_template_rows": null,
            "height": null,
            "justify_content": null,
            "justify_items": null,
            "left": null,
            "margin": null,
            "max_height": null,
            "max_width": null,
            "min_height": null,
            "min_width": null,
            "object_fit": null,
            "object_position": null,
            "order": null,
            "overflow": null,
            "overflow_x": null,
            "overflow_y": null,
            "padding": null,
            "right": null,
            "top": null,
            "visibility": null,
            "width": null
          }
        },
        "b4d951be03c848998dd7f237eb4f4a92": {
          "model_module": "@jupyter-widgets/controls",
          "model_name": "ProgressStyleModel",
          "model_module_version": "1.5.0",
          "state": {
            "_model_module": "@jupyter-widgets/controls",
            "_model_module_version": "1.5.0",
            "_model_name": "ProgressStyleModel",
            "_view_count": null,
            "_view_module": "@jupyter-widgets/base",
            "_view_module_version": "1.2.0",
            "_view_name": "StyleView",
            "bar_color": null,
            "description_width": ""
          }
        },
        "1805d64c9f65425e8e338f14ace5f1f0": {
          "model_module": "@jupyter-widgets/base",
          "model_name": "LayoutModel",
          "model_module_version": "1.2.0",
          "state": {
            "_model_module": "@jupyter-widgets/base",
            "_model_module_version": "1.2.0",
            "_model_name": "LayoutModel",
            "_view_count": null,
            "_view_module": "@jupyter-widgets/base",
            "_view_module_version": "1.2.0",
            "_view_name": "LayoutView",
            "align_content": null,
            "align_items": null,
            "align_self": null,
            "border": null,
            "bottom": null,
            "display": null,
            "flex": null,
            "flex_flow": null,
            "grid_area": null,
            "grid_auto_columns": null,
            "grid_auto_flow": null,
            "grid_auto_rows": null,
            "grid_column": null,
            "grid_gap": null,
            "grid_row": null,
            "grid_template_areas": null,
            "grid_template_columns": null,
            "grid_template_rows": null,
            "height": null,
            "justify_content": null,
            "justify_items": null,
            "left": null,
            "margin": null,
            "max_height": null,
            "max_width": null,
            "min_height": null,
            "min_width": null,
            "object_fit": null,
            "object_position": null,
            "order": null,
            "overflow": null,
            "overflow_x": null,
            "overflow_y": null,
            "padding": null,
            "right": null,
            "top": null,
            "visibility": null,
            "width": null
          }
        },
        "f0abeab8bc1b48d390be73fcfaa4405d": {
          "model_module": "@jupyter-widgets/controls",
          "model_name": "DescriptionStyleModel",
          "model_module_version": "1.5.0",
          "state": {
            "_model_module": "@jupyter-widgets/controls",
            "_model_module_version": "1.5.0",
            "_model_name": "DescriptionStyleModel",
            "_view_count": null,
            "_view_module": "@jupyter-widgets/base",
            "_view_module_version": "1.2.0",
            "_view_name": "StyleView",
            "description_width": ""
          }
        },
        "dbadd5f54b484c45aa4259d5d1f671e8": {
          "model_module": "@jupyter-widgets/controls",
          "model_name": "HBoxModel",
          "model_module_version": "1.5.0",
          "state": {
            "_dom_classes": [],
            "_model_module": "@jupyter-widgets/controls",
            "_model_module_version": "1.5.0",
            "_model_name": "HBoxModel",
            "_view_count": null,
            "_view_module": "@jupyter-widgets/controls",
            "_view_module_version": "1.5.0",
            "_view_name": "HBoxView",
            "box_style": "",
            "children": [
              "IPY_MODEL_5533f2af1ea9445da3ce5942eed33df2",
              "IPY_MODEL_e8c4381c0cbc46868f82d6713898ee4f",
              "IPY_MODEL_dbd85b4c3f7740e08a86d50a0e3e9e6e"
            ],
            "layout": "IPY_MODEL_e3a472d1a93949288bb8b343cb944090"
          }
        },
        "5533f2af1ea9445da3ce5942eed33df2": {
          "model_module": "@jupyter-widgets/controls",
          "model_name": "HTMLModel",
          "model_module_version": "1.5.0",
          "state": {
            "_dom_classes": [],
            "_model_module": "@jupyter-widgets/controls",
            "_model_module_version": "1.5.0",
            "_model_name": "HTMLModel",
            "_view_count": null,
            "_view_module": "@jupyter-widgets/controls",
            "_view_module_version": "1.5.0",
            "_view_name": "HTMLView",
            "description": "",
            "description_tooltip": null,
            "layout": "IPY_MODEL_7674248145e3488a9c94499038b92c6a",
            "placeholder": "​",
            "style": "IPY_MODEL_8d47f252caa4470f8448f6fa939df144",
            "value": "100%"
          }
        },
        "e8c4381c0cbc46868f82d6713898ee4f": {
          "model_module": "@jupyter-widgets/controls",
          "model_name": "FloatProgressModel",
          "model_module_version": "1.5.0",
          "state": {
            "_dom_classes": [],
            "_model_module": "@jupyter-widgets/controls",
            "_model_module_version": "1.5.0",
            "_model_name": "FloatProgressModel",
            "_view_count": null,
            "_view_module": "@jupyter-widgets/controls",
            "_view_module_version": "1.5.0",
            "_view_name": "ProgressView",
            "bar_style": "success",
            "description": "",
            "description_tooltip": null,
            "layout": "IPY_MODEL_9ba0898c1c6f4ea3b8dd45fe3b91a07c",
            "max": 37981,
            "min": 0,
            "orientation": "horizontal",
            "style": "IPY_MODEL_c78f2c67b0f34dbda519268ace579461",
            "value": 37981
          }
        },
        "dbd85b4c3f7740e08a86d50a0e3e9e6e": {
          "model_module": "@jupyter-widgets/controls",
          "model_name": "HTMLModel",
          "model_module_version": "1.5.0",
          "state": {
            "_dom_classes": [],
            "_model_module": "@jupyter-widgets/controls",
            "_model_module_version": "1.5.0",
            "_model_name": "HTMLModel",
            "_view_count": null,
            "_view_module": "@jupyter-widgets/controls",
            "_view_module_version": "1.5.0",
            "_view_name": "HTMLView",
            "description": "",
            "description_tooltip": null,
            "layout": "IPY_MODEL_021b4e249d934351bdfa0915fa995e71",
            "placeholder": "​",
            "style": "IPY_MODEL_fca1174c3c604ff5842bac8d305c0882",
            "value": " 37981/37981 [1:40:17&lt;00:00,  7.55it/s]"
          }
        },
        "e3a472d1a93949288bb8b343cb944090": {
          "model_module": "@jupyter-widgets/base",
          "model_name": "LayoutModel",
          "model_module_version": "1.2.0",
          "state": {
            "_model_module": "@jupyter-widgets/base",
            "_model_module_version": "1.2.0",
            "_model_name": "LayoutModel",
            "_view_count": null,
            "_view_module": "@jupyter-widgets/base",
            "_view_module_version": "1.2.0",
            "_view_name": "LayoutView",
            "align_content": null,
            "align_items": null,
            "align_self": null,
            "border": null,
            "bottom": null,
            "display": null,
            "flex": null,
            "flex_flow": null,
            "grid_area": null,
            "grid_auto_columns": null,
            "grid_auto_flow": null,
            "grid_auto_rows": null,
            "grid_column": null,
            "grid_gap": null,
            "grid_row": null,
            "grid_template_areas": null,
            "grid_template_columns": null,
            "grid_template_rows": null,
            "height": null,
            "justify_content": null,
            "justify_items": null,
            "left": null,
            "margin": null,
            "max_height": null,
            "max_width": null,
            "min_height": null,
            "min_width": null,
            "object_fit": null,
            "object_position": null,
            "order": null,
            "overflow": null,
            "overflow_x": null,
            "overflow_y": null,
            "padding": null,
            "right": null,
            "top": null,
            "visibility": null,
            "width": null
          }
        },
        "7674248145e3488a9c94499038b92c6a": {
          "model_module": "@jupyter-widgets/base",
          "model_name": "LayoutModel",
          "model_module_version": "1.2.0",
          "state": {
            "_model_module": "@jupyter-widgets/base",
            "_model_module_version": "1.2.0",
            "_model_name": "LayoutModel",
            "_view_count": null,
            "_view_module": "@jupyter-widgets/base",
            "_view_module_version": "1.2.0",
            "_view_name": "LayoutView",
            "align_content": null,
            "align_items": null,
            "align_self": null,
            "border": null,
            "bottom": null,
            "display": null,
            "flex": null,
            "flex_flow": null,
            "grid_area": null,
            "grid_auto_columns": null,
            "grid_auto_flow": null,
            "grid_auto_rows": null,
            "grid_column": null,
            "grid_gap": null,
            "grid_row": null,
            "grid_template_areas": null,
            "grid_template_columns": null,
            "grid_template_rows": null,
            "height": null,
            "justify_content": null,
            "justify_items": null,
            "left": null,
            "margin": null,
            "max_height": null,
            "max_width": null,
            "min_height": null,
            "min_width": null,
            "object_fit": null,
            "object_position": null,
            "order": null,
            "overflow": null,
            "overflow_x": null,
            "overflow_y": null,
            "padding": null,
            "right": null,
            "top": null,
            "visibility": null,
            "width": null
          }
        },
        "8d47f252caa4470f8448f6fa939df144": {
          "model_module": "@jupyter-widgets/controls",
          "model_name": "DescriptionStyleModel",
          "model_module_version": "1.5.0",
          "state": {
            "_model_module": "@jupyter-widgets/controls",
            "_model_module_version": "1.5.0",
            "_model_name": "DescriptionStyleModel",
            "_view_count": null,
            "_view_module": "@jupyter-widgets/base",
            "_view_module_version": "1.2.0",
            "_view_name": "StyleView",
            "description_width": ""
          }
        },
        "9ba0898c1c6f4ea3b8dd45fe3b91a07c": {
          "model_module": "@jupyter-widgets/base",
          "model_name": "LayoutModel",
          "model_module_version": "1.2.0",
          "state": {
            "_model_module": "@jupyter-widgets/base",
            "_model_module_version": "1.2.0",
            "_model_name": "LayoutModel",
            "_view_count": null,
            "_view_module": "@jupyter-widgets/base",
            "_view_module_version": "1.2.0",
            "_view_name": "LayoutView",
            "align_content": null,
            "align_items": null,
            "align_self": null,
            "border": null,
            "bottom": null,
            "display": null,
            "flex": null,
            "flex_flow": null,
            "grid_area": null,
            "grid_auto_columns": null,
            "grid_auto_flow": null,
            "grid_auto_rows": null,
            "grid_column": null,
            "grid_gap": null,
            "grid_row": null,
            "grid_template_areas": null,
            "grid_template_columns": null,
            "grid_template_rows": null,
            "height": null,
            "justify_content": null,
            "justify_items": null,
            "left": null,
            "margin": null,
            "max_height": null,
            "max_width": null,
            "min_height": null,
            "min_width": null,
            "object_fit": null,
            "object_position": null,
            "order": null,
            "overflow": null,
            "overflow_x": null,
            "overflow_y": null,
            "padding": null,
            "right": null,
            "top": null,
            "visibility": null,
            "width": null
          }
        },
        "c78f2c67b0f34dbda519268ace579461": {
          "model_module": "@jupyter-widgets/controls",
          "model_name": "ProgressStyleModel",
          "model_module_version": "1.5.0",
          "state": {
            "_model_module": "@jupyter-widgets/controls",
            "_model_module_version": "1.5.0",
            "_model_name": "ProgressStyleModel",
            "_view_count": null,
            "_view_module": "@jupyter-widgets/base",
            "_view_module_version": "1.2.0",
            "_view_name": "StyleView",
            "bar_color": null,
            "description_width": ""
          }
        },
        "021b4e249d934351bdfa0915fa995e71": {
          "model_module": "@jupyter-widgets/base",
          "model_name": "LayoutModel",
          "model_module_version": "1.2.0",
          "state": {
            "_model_module": "@jupyter-widgets/base",
            "_model_module_version": "1.2.0",
            "_model_name": "LayoutModel",
            "_view_count": null,
            "_view_module": "@jupyter-widgets/base",
            "_view_module_version": "1.2.0",
            "_view_name": "LayoutView",
            "align_content": null,
            "align_items": null,
            "align_self": null,
            "border": null,
            "bottom": null,
            "display": null,
            "flex": null,
            "flex_flow": null,
            "grid_area": null,
            "grid_auto_columns": null,
            "grid_auto_flow": null,
            "grid_auto_rows": null,
            "grid_column": null,
            "grid_gap": null,
            "grid_row": null,
            "grid_template_areas": null,
            "grid_template_columns": null,
            "grid_template_rows": null,
            "height": null,
            "justify_content": null,
            "justify_items": null,
            "left": null,
            "margin": null,
            "max_height": null,
            "max_width": null,
            "min_height": null,
            "min_width": null,
            "object_fit": null,
            "object_position": null,
            "order": null,
            "overflow": null,
            "overflow_x": null,
            "overflow_y": null,
            "padding": null,
            "right": null,
            "top": null,
            "visibility": null,
            "width": null
          }
        },
        "fca1174c3c604ff5842bac8d305c0882": {
          "model_module": "@jupyter-widgets/controls",
          "model_name": "DescriptionStyleModel",
          "model_module_version": "1.5.0",
          "state": {
            "_model_module": "@jupyter-widgets/controls",
            "_model_module_version": "1.5.0",
            "_model_name": "DescriptionStyleModel",
            "_view_count": null,
            "_view_module": "@jupyter-widgets/base",
            "_view_module_version": "1.2.0",
            "_view_name": "StyleView",
            "description_width": ""
          }
        },
        "346f1d9636274b9ab97c64a496078842": {
          "model_module": "@jupyter-widgets/controls",
          "model_name": "HBoxModel",
          "model_module_version": "1.5.0",
          "state": {
            "_dom_classes": [],
            "_model_module": "@jupyter-widgets/controls",
            "_model_module_version": "1.5.0",
            "_model_name": "HBoxModel",
            "_view_count": null,
            "_view_module": "@jupyter-widgets/controls",
            "_view_module_version": "1.5.0",
            "_view_name": "HBoxView",
            "box_style": "",
            "children": [
              "IPY_MODEL_39e06e94339f41c38cc441c8f32b6500",
              "IPY_MODEL_a91470c2921c442dbc9a6ecf64376476",
              "IPY_MODEL_d710431bb43a41d5b6cd312b199587ed"
            ],
            "layout": "IPY_MODEL_ddbad20ec4ce4af9b44007c9a2d8160a"
          }
        },
        "39e06e94339f41c38cc441c8f32b6500": {
          "model_module": "@jupyter-widgets/controls",
          "model_name": "HTMLModel",
          "model_module_version": "1.5.0",
          "state": {
            "_dom_classes": [],
            "_model_module": "@jupyter-widgets/controls",
            "_model_module_version": "1.5.0",
            "_model_name": "HTMLModel",
            "_view_count": null,
            "_view_module": "@jupyter-widgets/controls",
            "_view_module_version": "1.5.0",
            "_view_name": "HTMLView",
            "description": "",
            "description_tooltip": null,
            "layout": "IPY_MODEL_faaa5d53e3624a3d9632b1ea1b4d17b0",
            "placeholder": "​",
            "style": "IPY_MODEL_b39f6bd6cb98458a9bbfb4438cdd2688",
            "value": "Downloading (…)olve/main/vocab.json: 100%"
          }
        },
        "a91470c2921c442dbc9a6ecf64376476": {
          "model_module": "@jupyter-widgets/controls",
          "model_name": "FloatProgressModel",
          "model_module_version": "1.5.0",
          "state": {
            "_dom_classes": [],
            "_model_module": "@jupyter-widgets/controls",
            "_model_module_version": "1.5.0",
            "_model_name": "FloatProgressModel",
            "_view_count": null,
            "_view_module": "@jupyter-widgets/controls",
            "_view_module_version": "1.5.0",
            "_view_name": "ProgressView",
            "bar_style": "success",
            "description": "",
            "description_tooltip": null,
            "layout": "IPY_MODEL_9095ae9634d94920b3ea36b8e2ab7d65",
            "max": 1042301,
            "min": 0,
            "orientation": "horizontal",
            "style": "IPY_MODEL_f68ad15ba4314c6ca6a43cfc2801a2f7",
            "value": 1042301
          }
        },
        "d710431bb43a41d5b6cd312b199587ed": {
          "model_module": "@jupyter-widgets/controls",
          "model_name": "HTMLModel",
          "model_module_version": "1.5.0",
          "state": {
            "_dom_classes": [],
            "_model_module": "@jupyter-widgets/controls",
            "_model_module_version": "1.5.0",
            "_model_name": "HTMLModel",
            "_view_count": null,
            "_view_module": "@jupyter-widgets/controls",
            "_view_module_version": "1.5.0",
            "_view_name": "HTMLView",
            "description": "",
            "description_tooltip": null,
            "layout": "IPY_MODEL_007890bebac845c68012dbbc707f4c2d",
            "placeholder": "​",
            "style": "IPY_MODEL_42c2a04d5bdb4e2c8257070a0e216ce0",
            "value": " 1.04M/1.04M [00:00&lt;00:00, 9.78MB/s]"
          }
        },
        "ddbad20ec4ce4af9b44007c9a2d8160a": {
          "model_module": "@jupyter-widgets/base",
          "model_name": "LayoutModel",
          "model_module_version": "1.2.0",
          "state": {
            "_model_module": "@jupyter-widgets/base",
            "_model_module_version": "1.2.0",
            "_model_name": "LayoutModel",
            "_view_count": null,
            "_view_module": "@jupyter-widgets/base",
            "_view_module_version": "1.2.0",
            "_view_name": "LayoutView",
            "align_content": null,
            "align_items": null,
            "align_self": null,
            "border": null,
            "bottom": null,
            "display": null,
            "flex": null,
            "flex_flow": null,
            "grid_area": null,
            "grid_auto_columns": null,
            "grid_auto_flow": null,
            "grid_auto_rows": null,
            "grid_column": null,
            "grid_gap": null,
            "grid_row": null,
            "grid_template_areas": null,
            "grid_template_columns": null,
            "grid_template_rows": null,
            "height": null,
            "justify_content": null,
            "justify_items": null,
            "left": null,
            "margin": null,
            "max_height": null,
            "max_width": null,
            "min_height": null,
            "min_width": null,
            "object_fit": null,
            "object_position": null,
            "order": null,
            "overflow": null,
            "overflow_x": null,
            "overflow_y": null,
            "padding": null,
            "right": null,
            "top": null,
            "visibility": null,
            "width": null
          }
        },
        "faaa5d53e3624a3d9632b1ea1b4d17b0": {
          "model_module": "@jupyter-widgets/base",
          "model_name": "LayoutModel",
          "model_module_version": "1.2.0",
          "state": {
            "_model_module": "@jupyter-widgets/base",
            "_model_module_version": "1.2.0",
            "_model_name": "LayoutModel",
            "_view_count": null,
            "_view_module": "@jupyter-widgets/base",
            "_view_module_version": "1.2.0",
            "_view_name": "LayoutView",
            "align_content": null,
            "align_items": null,
            "align_self": null,
            "border": null,
            "bottom": null,
            "display": null,
            "flex": null,
            "flex_flow": null,
            "grid_area": null,
            "grid_auto_columns": null,
            "grid_auto_flow": null,
            "grid_auto_rows": null,
            "grid_column": null,
            "grid_gap": null,
            "grid_row": null,
            "grid_template_areas": null,
            "grid_template_columns": null,
            "grid_template_rows": null,
            "height": null,
            "justify_content": null,
            "justify_items": null,
            "left": null,
            "margin": null,
            "max_height": null,
            "max_width": null,
            "min_height": null,
            "min_width": null,
            "object_fit": null,
            "object_position": null,
            "order": null,
            "overflow": null,
            "overflow_x": null,
            "overflow_y": null,
            "padding": null,
            "right": null,
            "top": null,
            "visibility": null,
            "width": null
          }
        },
        "b39f6bd6cb98458a9bbfb4438cdd2688": {
          "model_module": "@jupyter-widgets/controls",
          "model_name": "DescriptionStyleModel",
          "model_module_version": "1.5.0",
          "state": {
            "_model_module": "@jupyter-widgets/controls",
            "_model_module_version": "1.5.0",
            "_model_name": "DescriptionStyleModel",
            "_view_count": null,
            "_view_module": "@jupyter-widgets/base",
            "_view_module_version": "1.2.0",
            "_view_name": "StyleView",
            "description_width": ""
          }
        },
        "9095ae9634d94920b3ea36b8e2ab7d65": {
          "model_module": "@jupyter-widgets/base",
          "model_name": "LayoutModel",
          "model_module_version": "1.2.0",
          "state": {
            "_model_module": "@jupyter-widgets/base",
            "_model_module_version": "1.2.0",
            "_model_name": "LayoutModel",
            "_view_count": null,
            "_view_module": "@jupyter-widgets/base",
            "_view_module_version": "1.2.0",
            "_view_name": "LayoutView",
            "align_content": null,
            "align_items": null,
            "align_self": null,
            "border": null,
            "bottom": null,
            "display": null,
            "flex": null,
            "flex_flow": null,
            "grid_area": null,
            "grid_auto_columns": null,
            "grid_auto_flow": null,
            "grid_auto_rows": null,
            "grid_column": null,
            "grid_gap": null,
            "grid_row": null,
            "grid_template_areas": null,
            "grid_template_columns": null,
            "grid_template_rows": null,
            "height": null,
            "justify_content": null,
            "justify_items": null,
            "left": null,
            "margin": null,
            "max_height": null,
            "max_width": null,
            "min_height": null,
            "min_width": null,
            "object_fit": null,
            "object_position": null,
            "order": null,
            "overflow": null,
            "overflow_x": null,
            "overflow_y": null,
            "padding": null,
            "right": null,
            "top": null,
            "visibility": null,
            "width": null
          }
        },
        "f68ad15ba4314c6ca6a43cfc2801a2f7": {
          "model_module": "@jupyter-widgets/controls",
          "model_name": "ProgressStyleModel",
          "model_module_version": "1.5.0",
          "state": {
            "_model_module": "@jupyter-widgets/controls",
            "_model_module_version": "1.5.0",
            "_model_name": "ProgressStyleModel",
            "_view_count": null,
            "_view_module": "@jupyter-widgets/base",
            "_view_module_version": "1.2.0",
            "_view_name": "StyleView",
            "bar_color": null,
            "description_width": ""
          }
        },
        "007890bebac845c68012dbbc707f4c2d": {
          "model_module": "@jupyter-widgets/base",
          "model_name": "LayoutModel",
          "model_module_version": "1.2.0",
          "state": {
            "_model_module": "@jupyter-widgets/base",
            "_model_module_version": "1.2.0",
            "_model_name": "LayoutModel",
            "_view_count": null,
            "_view_module": "@jupyter-widgets/base",
            "_view_module_version": "1.2.0",
            "_view_name": "LayoutView",
            "align_content": null,
            "align_items": null,
            "align_self": null,
            "border": null,
            "bottom": null,
            "display": null,
            "flex": null,
            "flex_flow": null,
            "grid_area": null,
            "grid_auto_columns": null,
            "grid_auto_flow": null,
            "grid_auto_rows": null,
            "grid_column": null,
            "grid_gap": null,
            "grid_row": null,
            "grid_template_areas": null,
            "grid_template_columns": null,
            "grid_template_rows": null,
            "height": null,
            "justify_content": null,
            "justify_items": null,
            "left": null,
            "margin": null,
            "max_height": null,
            "max_width": null,
            "min_height": null,
            "min_width": null,
            "object_fit": null,
            "object_position": null,
            "order": null,
            "overflow": null,
            "overflow_x": null,
            "overflow_y": null,
            "padding": null,
            "right": null,
            "top": null,
            "visibility": null,
            "width": null
          }
        },
        "42c2a04d5bdb4e2c8257070a0e216ce0": {
          "model_module": "@jupyter-widgets/controls",
          "model_name": "DescriptionStyleModel",
          "model_module_version": "1.5.0",
          "state": {
            "_model_module": "@jupyter-widgets/controls",
            "_model_module_version": "1.5.0",
            "_model_name": "DescriptionStyleModel",
            "_view_count": null,
            "_view_module": "@jupyter-widgets/base",
            "_view_module_version": "1.2.0",
            "_view_name": "StyleView",
            "description_width": ""
          }
        },
        "a5de3df3e9f64d2ab50adc1e588be101": {
          "model_module": "@jupyter-widgets/controls",
          "model_name": "HBoxModel",
          "model_module_version": "1.5.0",
          "state": {
            "_dom_classes": [],
            "_model_module": "@jupyter-widgets/controls",
            "_model_module_version": "1.5.0",
            "_model_name": "HBoxModel",
            "_view_count": null,
            "_view_module": "@jupyter-widgets/controls",
            "_view_module_version": "1.5.0",
            "_view_name": "HBoxView",
            "box_style": "",
            "children": [
              "IPY_MODEL_922a9c50f7f24b4380a9b355ad7c5d39",
              "IPY_MODEL_d2940b983a21415598667d70a9b5302f",
              "IPY_MODEL_7eee652f20c045cf81e4c87c9135639d"
            ],
            "layout": "IPY_MODEL_8884f47b99054f8281dfb8aad8f2a9ad"
          }
        },
        "922a9c50f7f24b4380a9b355ad7c5d39": {
          "model_module": "@jupyter-widgets/controls",
          "model_name": "HTMLModel",
          "model_module_version": "1.5.0",
          "state": {
            "_dom_classes": [],
            "_model_module": "@jupyter-widgets/controls",
            "_model_module_version": "1.5.0",
            "_model_name": "HTMLModel",
            "_view_count": null,
            "_view_module": "@jupyter-widgets/controls",
            "_view_module_version": "1.5.0",
            "_view_name": "HTMLView",
            "description": "",
            "description_tooltip": null,
            "layout": "IPY_MODEL_de2c0a189d0d4fa28d6d740446b33312",
            "placeholder": "​",
            "style": "IPY_MODEL_5fb8648ee1c448288f6d0dc6bdeb8d83",
            "value": "Downloading (…)olve/main/merges.txt: 100%"
          }
        },
        "d2940b983a21415598667d70a9b5302f": {
          "model_module": "@jupyter-widgets/controls",
          "model_name": "FloatProgressModel",
          "model_module_version": "1.5.0",
          "state": {
            "_dom_classes": [],
            "_model_module": "@jupyter-widgets/controls",
            "_model_module_version": "1.5.0",
            "_model_name": "FloatProgressModel",
            "_view_count": null,
            "_view_module": "@jupyter-widgets/controls",
            "_view_module_version": "1.5.0",
            "_view_name": "ProgressView",
            "bar_style": "success",
            "description": "",
            "description_tooltip": null,
            "layout": "IPY_MODEL_7b99feca84e240d082523a97d2630a76",
            "max": 456318,
            "min": 0,
            "orientation": "horizontal",
            "style": "IPY_MODEL_98a154580c6741a5a9c1728450ca3b42",
            "value": 456318
          }
        },
        "7eee652f20c045cf81e4c87c9135639d": {
          "model_module": "@jupyter-widgets/controls",
          "model_name": "HTMLModel",
          "model_module_version": "1.5.0",
          "state": {
            "_dom_classes": [],
            "_model_module": "@jupyter-widgets/controls",
            "_model_module_version": "1.5.0",
            "_model_name": "HTMLModel",
            "_view_count": null,
            "_view_module": "@jupyter-widgets/controls",
            "_view_module_version": "1.5.0",
            "_view_name": "HTMLView",
            "description": "",
            "description_tooltip": null,
            "layout": "IPY_MODEL_68cddc283ffe4720aa6560f217f3fc8e",
            "placeholder": "​",
            "style": "IPY_MODEL_1c4d15587bfc495fae2684866082407f",
            "value": " 456k/456k [00:00&lt;00:00, 7.05MB/s]"
          }
        },
        "8884f47b99054f8281dfb8aad8f2a9ad": {
          "model_module": "@jupyter-widgets/base",
          "model_name": "LayoutModel",
          "model_module_version": "1.2.0",
          "state": {
            "_model_module": "@jupyter-widgets/base",
            "_model_module_version": "1.2.0",
            "_model_name": "LayoutModel",
            "_view_count": null,
            "_view_module": "@jupyter-widgets/base",
            "_view_module_version": "1.2.0",
            "_view_name": "LayoutView",
            "align_content": null,
            "align_items": null,
            "align_self": null,
            "border": null,
            "bottom": null,
            "display": null,
            "flex": null,
            "flex_flow": null,
            "grid_area": null,
            "grid_auto_columns": null,
            "grid_auto_flow": null,
            "grid_auto_rows": null,
            "grid_column": null,
            "grid_gap": null,
            "grid_row": null,
            "grid_template_areas": null,
            "grid_template_columns": null,
            "grid_template_rows": null,
            "height": null,
            "justify_content": null,
            "justify_items": null,
            "left": null,
            "margin": null,
            "max_height": null,
            "max_width": null,
            "min_height": null,
            "min_width": null,
            "object_fit": null,
            "object_position": null,
            "order": null,
            "overflow": null,
            "overflow_x": null,
            "overflow_y": null,
            "padding": null,
            "right": null,
            "top": null,
            "visibility": null,
            "width": null
          }
        },
        "de2c0a189d0d4fa28d6d740446b33312": {
          "model_module": "@jupyter-widgets/base",
          "model_name": "LayoutModel",
          "model_module_version": "1.2.0",
          "state": {
            "_model_module": "@jupyter-widgets/base",
            "_model_module_version": "1.2.0",
            "_model_name": "LayoutModel",
            "_view_count": null,
            "_view_module": "@jupyter-widgets/base",
            "_view_module_version": "1.2.0",
            "_view_name": "LayoutView",
            "align_content": null,
            "align_items": null,
            "align_self": null,
            "border": null,
            "bottom": null,
            "display": null,
            "flex": null,
            "flex_flow": null,
            "grid_area": null,
            "grid_auto_columns": null,
            "grid_auto_flow": null,
            "grid_auto_rows": null,
            "grid_column": null,
            "grid_gap": null,
            "grid_row": null,
            "grid_template_areas": null,
            "grid_template_columns": null,
            "grid_template_rows": null,
            "height": null,
            "justify_content": null,
            "justify_items": null,
            "left": null,
            "margin": null,
            "max_height": null,
            "max_width": null,
            "min_height": null,
            "min_width": null,
            "object_fit": null,
            "object_position": null,
            "order": null,
            "overflow": null,
            "overflow_x": null,
            "overflow_y": null,
            "padding": null,
            "right": null,
            "top": null,
            "visibility": null,
            "width": null
          }
        },
        "5fb8648ee1c448288f6d0dc6bdeb8d83": {
          "model_module": "@jupyter-widgets/controls",
          "model_name": "DescriptionStyleModel",
          "model_module_version": "1.5.0",
          "state": {
            "_model_module": "@jupyter-widgets/controls",
            "_model_module_version": "1.5.0",
            "_model_name": "DescriptionStyleModel",
            "_view_count": null,
            "_view_module": "@jupyter-widgets/base",
            "_view_module_version": "1.2.0",
            "_view_name": "StyleView",
            "description_width": ""
          }
        },
        "7b99feca84e240d082523a97d2630a76": {
          "model_module": "@jupyter-widgets/base",
          "model_name": "LayoutModel",
          "model_module_version": "1.2.0",
          "state": {
            "_model_module": "@jupyter-widgets/base",
            "_model_module_version": "1.2.0",
            "_model_name": "LayoutModel",
            "_view_count": null,
            "_view_module": "@jupyter-widgets/base",
            "_view_module_version": "1.2.0",
            "_view_name": "LayoutView",
            "align_content": null,
            "align_items": null,
            "align_self": null,
            "border": null,
            "bottom": null,
            "display": null,
            "flex": null,
            "flex_flow": null,
            "grid_area": null,
            "grid_auto_columns": null,
            "grid_auto_flow": null,
            "grid_auto_rows": null,
            "grid_column": null,
            "grid_gap": null,
            "grid_row": null,
            "grid_template_areas": null,
            "grid_template_columns": null,
            "grid_template_rows": null,
            "height": null,
            "justify_content": null,
            "justify_items": null,
            "left": null,
            "margin": null,
            "max_height": null,
            "max_width": null,
            "min_height": null,
            "min_width": null,
            "object_fit": null,
            "object_position": null,
            "order": null,
            "overflow": null,
            "overflow_x": null,
            "overflow_y": null,
            "padding": null,
            "right": null,
            "top": null,
            "visibility": null,
            "width": null
          }
        },
        "98a154580c6741a5a9c1728450ca3b42": {
          "model_module": "@jupyter-widgets/controls",
          "model_name": "ProgressStyleModel",
          "model_module_version": "1.5.0",
          "state": {
            "_model_module": "@jupyter-widgets/controls",
            "_model_module_version": "1.5.0",
            "_model_name": "ProgressStyleModel",
            "_view_count": null,
            "_view_module": "@jupyter-widgets/base",
            "_view_module_version": "1.2.0",
            "_view_name": "StyleView",
            "bar_color": null,
            "description_width": ""
          }
        },
        "68cddc283ffe4720aa6560f217f3fc8e": {
          "model_module": "@jupyter-widgets/base",
          "model_name": "LayoutModel",
          "model_module_version": "1.2.0",
          "state": {
            "_model_module": "@jupyter-widgets/base",
            "_model_module_version": "1.2.0",
            "_model_name": "LayoutModel",
            "_view_count": null,
            "_view_module": "@jupyter-widgets/base",
            "_view_module_version": "1.2.0",
            "_view_name": "LayoutView",
            "align_content": null,
            "align_items": null,
            "align_self": null,
            "border": null,
            "bottom": null,
            "display": null,
            "flex": null,
            "flex_flow": null,
            "grid_area": null,
            "grid_auto_columns": null,
            "grid_auto_flow": null,
            "grid_auto_rows": null,
            "grid_column": null,
            "grid_gap": null,
            "grid_row": null,
            "grid_template_areas": null,
            "grid_template_columns": null,
            "grid_template_rows": null,
            "height": null,
            "justify_content": null,
            "justify_items": null,
            "left": null,
            "margin": null,
            "max_height": null,
            "max_width": null,
            "min_height": null,
            "min_width": null,
            "object_fit": null,
            "object_position": null,
            "order": null,
            "overflow": null,
            "overflow_x": null,
            "overflow_y": null,
            "padding": null,
            "right": null,
            "top": null,
            "visibility": null,
            "width": null
          }
        },
        "1c4d15587bfc495fae2684866082407f": {
          "model_module": "@jupyter-widgets/controls",
          "model_name": "DescriptionStyleModel",
          "model_module_version": "1.5.0",
          "state": {
            "_model_module": "@jupyter-widgets/controls",
            "_model_module_version": "1.5.0",
            "_model_name": "DescriptionStyleModel",
            "_view_count": null,
            "_view_module": "@jupyter-widgets/base",
            "_view_module_version": "1.2.0",
            "_view_name": "StyleView",
            "description_width": ""
          }
        },
        "9fcaa693c3f3471c904438364091ae55": {
          "model_module": "@jupyter-widgets/controls",
          "model_name": "HBoxModel",
          "model_module_version": "1.5.0",
          "state": {
            "_dom_classes": [],
            "_model_module": "@jupyter-widgets/controls",
            "_model_module_version": "1.5.0",
            "_model_name": "HBoxModel",
            "_view_count": null,
            "_view_module": "@jupyter-widgets/controls",
            "_view_module_version": "1.5.0",
            "_view_name": "HBoxView",
            "box_style": "",
            "children": [
              "IPY_MODEL_2c1fb10174b6475b9ed9d4e0f7b35f4e",
              "IPY_MODEL_84cfd50e907d459bb7a056a303e41525",
              "IPY_MODEL_ce2ce98093df46ffa25934fa09479715"
            ],
            "layout": "IPY_MODEL_c1462825c75a4b19b6067b2276c81ab1"
          }
        },
        "2c1fb10174b6475b9ed9d4e0f7b35f4e": {
          "model_module": "@jupyter-widgets/controls",
          "model_name": "HTMLModel",
          "model_module_version": "1.5.0",
          "state": {
            "_dom_classes": [],
            "_model_module": "@jupyter-widgets/controls",
            "_model_module_version": "1.5.0",
            "_model_name": "HTMLModel",
            "_view_count": null,
            "_view_module": "@jupyter-widgets/controls",
            "_view_module_version": "1.5.0",
            "_view_name": "HTMLView",
            "description": "",
            "description_tooltip": null,
            "layout": "IPY_MODEL_b610c053c1084af4871087cd5547b941",
            "placeholder": "​",
            "style": "IPY_MODEL_7b515ea5c0bb472b97f2e37d99a31b9c",
            "value": "Downloading (…)/main/tokenizer.json: 100%"
          }
        },
        "84cfd50e907d459bb7a056a303e41525": {
          "model_module": "@jupyter-widgets/controls",
          "model_name": "FloatProgressModel",
          "model_module_version": "1.5.0",
          "state": {
            "_dom_classes": [],
            "_model_module": "@jupyter-widgets/controls",
            "_model_module_version": "1.5.0",
            "_model_name": "FloatProgressModel",
            "_view_count": null,
            "_view_module": "@jupyter-widgets/controls",
            "_view_module_version": "1.5.0",
            "_view_name": "ProgressView",
            "bar_style": "success",
            "description": "",
            "description_tooltip": null,
            "layout": "IPY_MODEL_72c92e9b96ef45208a3fc922aadef2c4",
            "max": 1355256,
            "min": 0,
            "orientation": "horizontal",
            "style": "IPY_MODEL_0b27789d5ffe4ee0a5cacceef3cd9803",
            "value": 1355256
          }
        },
        "ce2ce98093df46ffa25934fa09479715": {
          "model_module": "@jupyter-widgets/controls",
          "model_name": "HTMLModel",
          "model_module_version": "1.5.0",
          "state": {
            "_dom_classes": [],
            "_model_module": "@jupyter-widgets/controls",
            "_model_module_version": "1.5.0",
            "_model_name": "HTMLModel",
            "_view_count": null,
            "_view_module": "@jupyter-widgets/controls",
            "_view_module_version": "1.5.0",
            "_view_name": "HTMLView",
            "description": "",
            "description_tooltip": null,
            "layout": "IPY_MODEL_f9ab5d7e98584ec495eb026feb93a8a9",
            "placeholder": "​",
            "style": "IPY_MODEL_2855b6b900dd4c6080fd9ba8a1fe7abc",
            "value": " 1.36M/1.36M [00:00&lt;00:00, 23.8MB/s]"
          }
        },
        "c1462825c75a4b19b6067b2276c81ab1": {
          "model_module": "@jupyter-widgets/base",
          "model_name": "LayoutModel",
          "model_module_version": "1.2.0",
          "state": {
            "_model_module": "@jupyter-widgets/base",
            "_model_module_version": "1.2.0",
            "_model_name": "LayoutModel",
            "_view_count": null,
            "_view_module": "@jupyter-widgets/base",
            "_view_module_version": "1.2.0",
            "_view_name": "LayoutView",
            "align_content": null,
            "align_items": null,
            "align_self": null,
            "border": null,
            "bottom": null,
            "display": null,
            "flex": null,
            "flex_flow": null,
            "grid_area": null,
            "grid_auto_columns": null,
            "grid_auto_flow": null,
            "grid_auto_rows": null,
            "grid_column": null,
            "grid_gap": null,
            "grid_row": null,
            "grid_template_areas": null,
            "grid_template_columns": null,
            "grid_template_rows": null,
            "height": null,
            "justify_content": null,
            "justify_items": null,
            "left": null,
            "margin": null,
            "max_height": null,
            "max_width": null,
            "min_height": null,
            "min_width": null,
            "object_fit": null,
            "object_position": null,
            "order": null,
            "overflow": null,
            "overflow_x": null,
            "overflow_y": null,
            "padding": null,
            "right": null,
            "top": null,
            "visibility": null,
            "width": null
          }
        },
        "b610c053c1084af4871087cd5547b941": {
          "model_module": "@jupyter-widgets/base",
          "model_name": "LayoutModel",
          "model_module_version": "1.2.0",
          "state": {
            "_model_module": "@jupyter-widgets/base",
            "_model_module_version": "1.2.0",
            "_model_name": "LayoutModel",
            "_view_count": null,
            "_view_module": "@jupyter-widgets/base",
            "_view_module_version": "1.2.0",
            "_view_name": "LayoutView",
            "align_content": null,
            "align_items": null,
            "align_self": null,
            "border": null,
            "bottom": null,
            "display": null,
            "flex": null,
            "flex_flow": null,
            "grid_area": null,
            "grid_auto_columns": null,
            "grid_auto_flow": null,
            "grid_auto_rows": null,
            "grid_column": null,
            "grid_gap": null,
            "grid_row": null,
            "grid_template_areas": null,
            "grid_template_columns": null,
            "grid_template_rows": null,
            "height": null,
            "justify_content": null,
            "justify_items": null,
            "left": null,
            "margin": null,
            "max_height": null,
            "max_width": null,
            "min_height": null,
            "min_width": null,
            "object_fit": null,
            "object_position": null,
            "order": null,
            "overflow": null,
            "overflow_x": null,
            "overflow_y": null,
            "padding": null,
            "right": null,
            "top": null,
            "visibility": null,
            "width": null
          }
        },
        "7b515ea5c0bb472b97f2e37d99a31b9c": {
          "model_module": "@jupyter-widgets/controls",
          "model_name": "DescriptionStyleModel",
          "model_module_version": "1.5.0",
          "state": {
            "_model_module": "@jupyter-widgets/controls",
            "_model_module_version": "1.5.0",
            "_model_name": "DescriptionStyleModel",
            "_view_count": null,
            "_view_module": "@jupyter-widgets/base",
            "_view_module_version": "1.2.0",
            "_view_name": "StyleView",
            "description_width": ""
          }
        },
        "72c92e9b96ef45208a3fc922aadef2c4": {
          "model_module": "@jupyter-widgets/base",
          "model_name": "LayoutModel",
          "model_module_version": "1.2.0",
          "state": {
            "_model_module": "@jupyter-widgets/base",
            "_model_module_version": "1.2.0",
            "_model_name": "LayoutModel",
            "_view_count": null,
            "_view_module": "@jupyter-widgets/base",
            "_view_module_version": "1.2.0",
            "_view_name": "LayoutView",
            "align_content": null,
            "align_items": null,
            "align_self": null,
            "border": null,
            "bottom": null,
            "display": null,
            "flex": null,
            "flex_flow": null,
            "grid_area": null,
            "grid_auto_columns": null,
            "grid_auto_flow": null,
            "grid_auto_rows": null,
            "grid_column": null,
            "grid_gap": null,
            "grid_row": null,
            "grid_template_areas": null,
            "grid_template_columns": null,
            "grid_template_rows": null,
            "height": null,
            "justify_content": null,
            "justify_items": null,
            "left": null,
            "margin": null,
            "max_height": null,
            "max_width": null,
            "min_height": null,
            "min_width": null,
            "object_fit": null,
            "object_position": null,
            "order": null,
            "overflow": null,
            "overflow_x": null,
            "overflow_y": null,
            "padding": null,
            "right": null,
            "top": null,
            "visibility": null,
            "width": null
          }
        },
        "0b27789d5ffe4ee0a5cacceef3cd9803": {
          "model_module": "@jupyter-widgets/controls",
          "model_name": "ProgressStyleModel",
          "model_module_version": "1.5.0",
          "state": {
            "_model_module": "@jupyter-widgets/controls",
            "_model_module_version": "1.5.0",
            "_model_name": "ProgressStyleModel",
            "_view_count": null,
            "_view_module": "@jupyter-widgets/base",
            "_view_module_version": "1.2.0",
            "_view_name": "StyleView",
            "bar_color": null,
            "description_width": ""
          }
        },
        "f9ab5d7e98584ec495eb026feb93a8a9": {
          "model_module": "@jupyter-widgets/base",
          "model_name": "LayoutModel",
          "model_module_version": "1.2.0",
          "state": {
            "_model_module": "@jupyter-widgets/base",
            "_model_module_version": "1.2.0",
            "_model_name": "LayoutModel",
            "_view_count": null,
            "_view_module": "@jupyter-widgets/base",
            "_view_module_version": "1.2.0",
            "_view_name": "LayoutView",
            "align_content": null,
            "align_items": null,
            "align_self": null,
            "border": null,
            "bottom": null,
            "display": null,
            "flex": null,
            "flex_flow": null,
            "grid_area": null,
            "grid_auto_columns": null,
            "grid_auto_flow": null,
            "grid_auto_rows": null,
            "grid_column": null,
            "grid_gap": null,
            "grid_row": null,
            "grid_template_areas": null,
            "grid_template_columns": null,
            "grid_template_rows": null,
            "height": null,
            "justify_content": null,
            "justify_items": null,
            "left": null,
            "margin": null,
            "max_height": null,
            "max_width": null,
            "min_height": null,
            "min_width": null,
            "object_fit": null,
            "object_position": null,
            "order": null,
            "overflow": null,
            "overflow_x": null,
            "overflow_y": null,
            "padding": null,
            "right": null,
            "top": null,
            "visibility": null,
            "width": null
          }
        },
        "2855b6b900dd4c6080fd9ba8a1fe7abc": {
          "model_module": "@jupyter-widgets/controls",
          "model_name": "DescriptionStyleModel",
          "model_module_version": "1.5.0",
          "state": {
            "_model_module": "@jupyter-widgets/controls",
            "_model_module_version": "1.5.0",
            "_model_name": "DescriptionStyleModel",
            "_view_count": null,
            "_view_module": "@jupyter-widgets/base",
            "_view_module_version": "1.2.0",
            "_view_name": "StyleView",
            "description_width": ""
          }
        },
        "3dd168b6d6a9483f8e5953295eb86b95": {
          "model_module": "@jupyter-widgets/controls",
          "model_name": "HBoxModel",
          "model_module_version": "1.5.0",
          "state": {
            "_dom_classes": [],
            "_model_module": "@jupyter-widgets/controls",
            "_model_module_version": "1.5.0",
            "_model_name": "HBoxModel",
            "_view_count": null,
            "_view_module": "@jupyter-widgets/controls",
            "_view_module_version": "1.5.0",
            "_view_name": "HBoxView",
            "box_style": "",
            "children": [
              "IPY_MODEL_8f453f1cf7c241698ced13525cd14a66",
              "IPY_MODEL_9406e24aa30b4c099bda4c39d4d6db43",
              "IPY_MODEL_933636285ad846c0a94049fcdd59d0b9"
            ],
            "layout": "IPY_MODEL_74a5f5cff04d4a13a6e26111b8818101"
          }
        },
        "8f453f1cf7c241698ced13525cd14a66": {
          "model_module": "@jupyter-widgets/controls",
          "model_name": "HTMLModel",
          "model_module_version": "1.5.0",
          "state": {
            "_dom_classes": [],
            "_model_module": "@jupyter-widgets/controls",
            "_model_module_version": "1.5.0",
            "_model_name": "HTMLModel",
            "_view_count": null,
            "_view_module": "@jupyter-widgets/controls",
            "_view_module_version": "1.5.0",
            "_view_name": "HTMLView",
            "description": "",
            "description_tooltip": null,
            "layout": "IPY_MODEL_c6ac2ad3865f4a2d9d0a2e6c68bbd613",
            "placeholder": "​",
            "style": "IPY_MODEL_e7d8bc66a9ba4ae1abfdde6e582651cb",
            "value": "Downloading (…)lve/main/config.json: 100%"
          }
        },
        "9406e24aa30b4c099bda4c39d4d6db43": {
          "model_module": "@jupyter-widgets/controls",
          "model_name": "FloatProgressModel",
          "model_module_version": "1.5.0",
          "state": {
            "_dom_classes": [],
            "_model_module": "@jupyter-widgets/controls",
            "_model_module_version": "1.5.0",
            "_model_name": "FloatProgressModel",
            "_view_count": null,
            "_view_module": "@jupyter-widgets/controls",
            "_view_module_version": "1.5.0",
            "_view_name": "ProgressView",
            "bar_style": "success",
            "description": "",
            "description_tooltip": null,
            "layout": "IPY_MODEL_936640db82fd49a8bce23edff1b21d82",
            "max": 718,
            "min": 0,
            "orientation": "horizontal",
            "style": "IPY_MODEL_f84533da0d1d4831a3a394765124c3c4",
            "value": 718
          }
        },
        "933636285ad846c0a94049fcdd59d0b9": {
          "model_module": "@jupyter-widgets/controls",
          "model_name": "HTMLModel",
          "model_module_version": "1.5.0",
          "state": {
            "_dom_classes": [],
            "_model_module": "@jupyter-widgets/controls",
            "_model_module_version": "1.5.0",
            "_model_name": "HTMLModel",
            "_view_count": null,
            "_view_module": "@jupyter-widgets/controls",
            "_view_module_version": "1.5.0",
            "_view_name": "HTMLView",
            "description": "",
            "description_tooltip": null,
            "layout": "IPY_MODEL_b12b5fe29499437d9698c1a2e9a143b2",
            "placeholder": "​",
            "style": "IPY_MODEL_ac18a43be80c431caa0addc2eb502448",
            "value": " 718/718 [00:00&lt;00:00, 44.9kB/s]"
          }
        },
        "74a5f5cff04d4a13a6e26111b8818101": {
          "model_module": "@jupyter-widgets/base",
          "model_name": "LayoutModel",
          "model_module_version": "1.2.0",
          "state": {
            "_model_module": "@jupyter-widgets/base",
            "_model_module_version": "1.2.0",
            "_model_name": "LayoutModel",
            "_view_count": null,
            "_view_module": "@jupyter-widgets/base",
            "_view_module_version": "1.2.0",
            "_view_name": "LayoutView",
            "align_content": null,
            "align_items": null,
            "align_self": null,
            "border": null,
            "bottom": null,
            "display": null,
            "flex": null,
            "flex_flow": null,
            "grid_area": null,
            "grid_auto_columns": null,
            "grid_auto_flow": null,
            "grid_auto_rows": null,
            "grid_column": null,
            "grid_gap": null,
            "grid_row": null,
            "grid_template_areas": null,
            "grid_template_columns": null,
            "grid_template_rows": null,
            "height": null,
            "justify_content": null,
            "justify_items": null,
            "left": null,
            "margin": null,
            "max_height": null,
            "max_width": null,
            "min_height": null,
            "min_width": null,
            "object_fit": null,
            "object_position": null,
            "order": null,
            "overflow": null,
            "overflow_x": null,
            "overflow_y": null,
            "padding": null,
            "right": null,
            "top": null,
            "visibility": null,
            "width": null
          }
        },
        "c6ac2ad3865f4a2d9d0a2e6c68bbd613": {
          "model_module": "@jupyter-widgets/base",
          "model_name": "LayoutModel",
          "model_module_version": "1.2.0",
          "state": {
            "_model_module": "@jupyter-widgets/base",
            "_model_module_version": "1.2.0",
            "_model_name": "LayoutModel",
            "_view_count": null,
            "_view_module": "@jupyter-widgets/base",
            "_view_module_version": "1.2.0",
            "_view_name": "LayoutView",
            "align_content": null,
            "align_items": null,
            "align_self": null,
            "border": null,
            "bottom": null,
            "display": null,
            "flex": null,
            "flex_flow": null,
            "grid_area": null,
            "grid_auto_columns": null,
            "grid_auto_flow": null,
            "grid_auto_rows": null,
            "grid_column": null,
            "grid_gap": null,
            "grid_row": null,
            "grid_template_areas": null,
            "grid_template_columns": null,
            "grid_template_rows": null,
            "height": null,
            "justify_content": null,
            "justify_items": null,
            "left": null,
            "margin": null,
            "max_height": null,
            "max_width": null,
            "min_height": null,
            "min_width": null,
            "object_fit": null,
            "object_position": null,
            "order": null,
            "overflow": null,
            "overflow_x": null,
            "overflow_y": null,
            "padding": null,
            "right": null,
            "top": null,
            "visibility": null,
            "width": null
          }
        },
        "e7d8bc66a9ba4ae1abfdde6e582651cb": {
          "model_module": "@jupyter-widgets/controls",
          "model_name": "DescriptionStyleModel",
          "model_module_version": "1.5.0",
          "state": {
            "_model_module": "@jupyter-widgets/controls",
            "_model_module_version": "1.5.0",
            "_model_name": "DescriptionStyleModel",
            "_view_count": null,
            "_view_module": "@jupyter-widgets/base",
            "_view_module_version": "1.2.0",
            "_view_name": "StyleView",
            "description_width": ""
          }
        },
        "936640db82fd49a8bce23edff1b21d82": {
          "model_module": "@jupyter-widgets/base",
          "model_name": "LayoutModel",
          "model_module_version": "1.2.0",
          "state": {
            "_model_module": "@jupyter-widgets/base",
            "_model_module_version": "1.2.0",
            "_model_name": "LayoutModel",
            "_view_count": null,
            "_view_module": "@jupyter-widgets/base",
            "_view_module_version": "1.2.0",
            "_view_name": "LayoutView",
            "align_content": null,
            "align_items": null,
            "align_self": null,
            "border": null,
            "bottom": null,
            "display": null,
            "flex": null,
            "flex_flow": null,
            "grid_area": null,
            "grid_auto_columns": null,
            "grid_auto_flow": null,
            "grid_auto_rows": null,
            "grid_column": null,
            "grid_gap": null,
            "grid_row": null,
            "grid_template_areas": null,
            "grid_template_columns": null,
            "grid_template_rows": null,
            "height": null,
            "justify_content": null,
            "justify_items": null,
            "left": null,
            "margin": null,
            "max_height": null,
            "max_width": null,
            "min_height": null,
            "min_width": null,
            "object_fit": null,
            "object_position": null,
            "order": null,
            "overflow": null,
            "overflow_x": null,
            "overflow_y": null,
            "padding": null,
            "right": null,
            "top": null,
            "visibility": null,
            "width": null
          }
        },
        "f84533da0d1d4831a3a394765124c3c4": {
          "model_module": "@jupyter-widgets/controls",
          "model_name": "ProgressStyleModel",
          "model_module_version": "1.5.0",
          "state": {
            "_model_module": "@jupyter-widgets/controls",
            "_model_module_version": "1.5.0",
            "_model_name": "ProgressStyleModel",
            "_view_count": null,
            "_view_module": "@jupyter-widgets/base",
            "_view_module_version": "1.2.0",
            "_view_name": "StyleView",
            "bar_color": null,
            "description_width": ""
          }
        },
        "b12b5fe29499437d9698c1a2e9a143b2": {
          "model_module": "@jupyter-widgets/base",
          "model_name": "LayoutModel",
          "model_module_version": "1.2.0",
          "state": {
            "_model_module": "@jupyter-widgets/base",
            "_model_module_version": "1.2.0",
            "_model_name": "LayoutModel",
            "_view_count": null,
            "_view_module": "@jupyter-widgets/base",
            "_view_module_version": "1.2.0",
            "_view_name": "LayoutView",
            "align_content": null,
            "align_items": null,
            "align_self": null,
            "border": null,
            "bottom": null,
            "display": null,
            "flex": null,
            "flex_flow": null,
            "grid_area": null,
            "grid_auto_columns": null,
            "grid_auto_flow": null,
            "grid_auto_rows": null,
            "grid_column": null,
            "grid_gap": null,
            "grid_row": null,
            "grid_template_areas": null,
            "grid_template_columns": null,
            "grid_template_rows": null,
            "height": null,
            "justify_content": null,
            "justify_items": null,
            "left": null,
            "margin": null,
            "max_height": null,
            "max_width": null,
            "min_height": null,
            "min_width": null,
            "object_fit": null,
            "object_position": null,
            "order": null,
            "overflow": null,
            "overflow_x": null,
            "overflow_y": null,
            "padding": null,
            "right": null,
            "top": null,
            "visibility": null,
            "width": null
          }
        },
        "ac18a43be80c431caa0addc2eb502448": {
          "model_module": "@jupyter-widgets/controls",
          "model_name": "DescriptionStyleModel",
          "model_module_version": "1.5.0",
          "state": {
            "_model_module": "@jupyter-widgets/controls",
            "_model_module_version": "1.5.0",
            "_model_name": "DescriptionStyleModel",
            "_view_count": null,
            "_view_module": "@jupyter-widgets/base",
            "_view_module_version": "1.2.0",
            "_view_name": "StyleView",
            "description_width": ""
          }
        },
        "a27b3e4e1b2f45a09ed466c67cbf5d88": {
          "model_module": "@jupyter-widgets/controls",
          "model_name": "HBoxModel",
          "model_module_version": "1.5.0",
          "state": {
            "_dom_classes": [],
            "_model_module": "@jupyter-widgets/controls",
            "_model_module_version": "1.5.0",
            "_model_name": "HBoxModel",
            "_view_count": null,
            "_view_module": "@jupyter-widgets/controls",
            "_view_module_version": "1.5.0",
            "_view_name": "HBoxView",
            "box_style": "",
            "children": [
              "IPY_MODEL_5f9a146e3c1e47bea3bbae491add8245",
              "IPY_MODEL_54661647f0e4430787a5a90fa1e1045c",
              "IPY_MODEL_5133c62d11fe417b90e8a1c9b491b7a2"
            ],
            "layout": "IPY_MODEL_67afa505a0bf462fa3bc9b66df175d5a"
          }
        },
        "5f9a146e3c1e47bea3bbae491add8245": {
          "model_module": "@jupyter-widgets/controls",
          "model_name": "HTMLModel",
          "model_module_version": "1.5.0",
          "state": {
            "_dom_classes": [],
            "_model_module": "@jupyter-widgets/controls",
            "_model_module_version": "1.5.0",
            "_model_name": "HTMLModel",
            "_view_count": null,
            "_view_module": "@jupyter-widgets/controls",
            "_view_module_version": "1.5.0",
            "_view_name": "HTMLView",
            "description": "",
            "description_tooltip": null,
            "layout": "IPY_MODEL_89591b51babf4db38a4244d092d61be1",
            "placeholder": "​",
            "style": "IPY_MODEL_4accb8cb2aad4179950149f2f22b673d",
            "value": "Downloading model.safetensors: 100%"
          }
        },
        "54661647f0e4430787a5a90fa1e1045c": {
          "model_module": "@jupyter-widgets/controls",
          "model_name": "FloatProgressModel",
          "model_module_version": "1.5.0",
          "state": {
            "_dom_classes": [],
            "_model_module": "@jupyter-widgets/controls",
            "_model_module_version": "1.5.0",
            "_model_name": "FloatProgressModel",
            "_view_count": null,
            "_view_module": "@jupyter-widgets/controls",
            "_view_module_version": "1.5.0",
            "_view_name": "ProgressView",
            "bar_style": "success",
            "description": "",
            "description_tooltip": null,
            "layout": "IPY_MODEL_09330e8fb4714e03879817691c4c26be",
            "max": 1519984962,
            "min": 0,
            "orientation": "horizontal",
            "style": "IPY_MODEL_e7cefc4dbcae4070a4db29d6d2246cd8",
            "value": 1519984962
          }
        },
        "5133c62d11fe417b90e8a1c9b491b7a2": {
          "model_module": "@jupyter-widgets/controls",
          "model_name": "HTMLModel",
          "model_module_version": "1.5.0",
          "state": {
            "_dom_classes": [],
            "_model_module": "@jupyter-widgets/controls",
            "_model_module_version": "1.5.0",
            "_model_name": "HTMLModel",
            "_view_count": null,
            "_view_module": "@jupyter-widgets/controls",
            "_view_module_version": "1.5.0",
            "_view_name": "HTMLView",
            "description": "",
            "description_tooltip": null,
            "layout": "IPY_MODEL_1f4af98a25394f0d8374db2d5496f81c",
            "placeholder": "​",
            "style": "IPY_MODEL_f02597e762584daaa3fae866a4c31945",
            "value": " 1.52G/1.52G [00:06&lt;00:00, 251MB/s]"
          }
        },
        "67afa505a0bf462fa3bc9b66df175d5a": {
          "model_module": "@jupyter-widgets/base",
          "model_name": "LayoutModel",
          "model_module_version": "1.2.0",
          "state": {
            "_model_module": "@jupyter-widgets/base",
            "_model_module_version": "1.2.0",
            "_model_name": "LayoutModel",
            "_view_count": null,
            "_view_module": "@jupyter-widgets/base",
            "_view_module_version": "1.2.0",
            "_view_name": "LayoutView",
            "align_content": null,
            "align_items": null,
            "align_self": null,
            "border": null,
            "bottom": null,
            "display": null,
            "flex": null,
            "flex_flow": null,
            "grid_area": null,
            "grid_auto_columns": null,
            "grid_auto_flow": null,
            "grid_auto_rows": null,
            "grid_column": null,
            "grid_gap": null,
            "grid_row": null,
            "grid_template_areas": null,
            "grid_template_columns": null,
            "grid_template_rows": null,
            "height": null,
            "justify_content": null,
            "justify_items": null,
            "left": null,
            "margin": null,
            "max_height": null,
            "max_width": null,
            "min_height": null,
            "min_width": null,
            "object_fit": null,
            "object_position": null,
            "order": null,
            "overflow": null,
            "overflow_x": null,
            "overflow_y": null,
            "padding": null,
            "right": null,
            "top": null,
            "visibility": null,
            "width": null
          }
        },
        "89591b51babf4db38a4244d092d61be1": {
          "model_module": "@jupyter-widgets/base",
          "model_name": "LayoutModel",
          "model_module_version": "1.2.0",
          "state": {
            "_model_module": "@jupyter-widgets/base",
            "_model_module_version": "1.2.0",
            "_model_name": "LayoutModel",
            "_view_count": null,
            "_view_module": "@jupyter-widgets/base",
            "_view_module_version": "1.2.0",
            "_view_name": "LayoutView",
            "align_content": null,
            "align_items": null,
            "align_self": null,
            "border": null,
            "bottom": null,
            "display": null,
            "flex": null,
            "flex_flow": null,
            "grid_area": null,
            "grid_auto_columns": null,
            "grid_auto_flow": null,
            "grid_auto_rows": null,
            "grid_column": null,
            "grid_gap": null,
            "grid_row": null,
            "grid_template_areas": null,
            "grid_template_columns": null,
            "grid_template_rows": null,
            "height": null,
            "justify_content": null,
            "justify_items": null,
            "left": null,
            "margin": null,
            "max_height": null,
            "max_width": null,
            "min_height": null,
            "min_width": null,
            "object_fit": null,
            "object_position": null,
            "order": null,
            "overflow": null,
            "overflow_x": null,
            "overflow_y": null,
            "padding": null,
            "right": null,
            "top": null,
            "visibility": null,
            "width": null
          }
        },
        "4accb8cb2aad4179950149f2f22b673d": {
          "model_module": "@jupyter-widgets/controls",
          "model_name": "DescriptionStyleModel",
          "model_module_version": "1.5.0",
          "state": {
            "_model_module": "@jupyter-widgets/controls",
            "_model_module_version": "1.5.0",
            "_model_name": "DescriptionStyleModel",
            "_view_count": null,
            "_view_module": "@jupyter-widgets/base",
            "_view_module_version": "1.2.0",
            "_view_name": "StyleView",
            "description_width": ""
          }
        },
        "09330e8fb4714e03879817691c4c26be": {
          "model_module": "@jupyter-widgets/base",
          "model_name": "LayoutModel",
          "model_module_version": "1.2.0",
          "state": {
            "_model_module": "@jupyter-widgets/base",
            "_model_module_version": "1.2.0",
            "_model_name": "LayoutModel",
            "_view_count": null,
            "_view_module": "@jupyter-widgets/base",
            "_view_module_version": "1.2.0",
            "_view_name": "LayoutView",
            "align_content": null,
            "align_items": null,
            "align_self": null,
            "border": null,
            "bottom": null,
            "display": null,
            "flex": null,
            "flex_flow": null,
            "grid_area": null,
            "grid_auto_columns": null,
            "grid_auto_flow": null,
            "grid_auto_rows": null,
            "grid_column": null,
            "grid_gap": null,
            "grid_row": null,
            "grid_template_areas": null,
            "grid_template_columns": null,
            "grid_template_rows": null,
            "height": null,
            "justify_content": null,
            "justify_items": null,
            "left": null,
            "margin": null,
            "max_height": null,
            "max_width": null,
            "min_height": null,
            "min_width": null,
            "object_fit": null,
            "object_position": null,
            "order": null,
            "overflow": null,
            "overflow_x": null,
            "overflow_y": null,
            "padding": null,
            "right": null,
            "top": null,
            "visibility": null,
            "width": null
          }
        },
        "e7cefc4dbcae4070a4db29d6d2246cd8": {
          "model_module": "@jupyter-widgets/controls",
          "model_name": "ProgressStyleModel",
          "model_module_version": "1.5.0",
          "state": {
            "_model_module": "@jupyter-widgets/controls",
            "_model_module_version": "1.5.0",
            "_model_name": "ProgressStyleModel",
            "_view_count": null,
            "_view_module": "@jupyter-widgets/base",
            "_view_module_version": "1.2.0",
            "_view_name": "StyleView",
            "bar_color": null,
            "description_width": ""
          }
        },
        "1f4af98a25394f0d8374db2d5496f81c": {
          "model_module": "@jupyter-widgets/base",
          "model_name": "LayoutModel",
          "model_module_version": "1.2.0",
          "state": {
            "_model_module": "@jupyter-widgets/base",
            "_model_module_version": "1.2.0",
            "_model_name": "LayoutModel",
            "_view_count": null,
            "_view_module": "@jupyter-widgets/base",
            "_view_module_version": "1.2.0",
            "_view_name": "LayoutView",
            "align_content": null,
            "align_items": null,
            "align_self": null,
            "border": null,
            "bottom": null,
            "display": null,
            "flex": null,
            "flex_flow": null,
            "grid_area": null,
            "grid_auto_columns": null,
            "grid_auto_flow": null,
            "grid_auto_rows": null,
            "grid_column": null,
            "grid_gap": null,
            "grid_row": null,
            "grid_template_areas": null,
            "grid_template_columns": null,
            "grid_template_rows": null,
            "height": null,
            "justify_content": null,
            "justify_items": null,
            "left": null,
            "margin": null,
            "max_height": null,
            "max_width": null,
            "min_height": null,
            "min_width": null,
            "object_fit": null,
            "object_position": null,
            "order": null,
            "overflow": null,
            "overflow_x": null,
            "overflow_y": null,
            "padding": null,
            "right": null,
            "top": null,
            "visibility": null,
            "width": null
          }
        },
        "f02597e762584daaa3fae866a4c31945": {
          "model_module": "@jupyter-widgets/controls",
          "model_name": "DescriptionStyleModel",
          "model_module_version": "1.5.0",
          "state": {
            "_model_module": "@jupyter-widgets/controls",
            "_model_module_version": "1.5.0",
            "_model_name": "DescriptionStyleModel",
            "_view_count": null,
            "_view_module": "@jupyter-widgets/base",
            "_view_module_version": "1.2.0",
            "_view_name": "StyleView",
            "description_width": ""
          }
        },
        "fbf2fa5af45c499eb6aa93b71204ff44": {
          "model_module": "@jupyter-widgets/controls",
          "model_name": "HBoxModel",
          "model_module_version": "1.5.0",
          "state": {
            "_dom_classes": [],
            "_model_module": "@jupyter-widgets/controls",
            "_model_module_version": "1.5.0",
            "_model_name": "HBoxModel",
            "_view_count": null,
            "_view_module": "@jupyter-widgets/controls",
            "_view_module_version": "1.5.0",
            "_view_name": "HBoxView",
            "box_style": "",
            "children": [
              "IPY_MODEL_7284fc3916f14a30a307049e279c1053",
              "IPY_MODEL_7eeddbf6881e40838bb1c1a8da701588",
              "IPY_MODEL_6866c9be203c49bca4a6ed321f3cfe1d"
            ],
            "layout": "IPY_MODEL_23d3d0773aca4ea5b6e6227e5cf99377"
          }
        },
        "7284fc3916f14a30a307049e279c1053": {
          "model_module": "@jupyter-widgets/controls",
          "model_name": "HTMLModel",
          "model_module_version": "1.5.0",
          "state": {
            "_dom_classes": [],
            "_model_module": "@jupyter-widgets/controls",
            "_model_module_version": "1.5.0",
            "_model_name": "HTMLModel",
            "_view_count": null,
            "_view_module": "@jupyter-widgets/controls",
            "_view_module_version": "1.5.0",
            "_view_name": "HTMLView",
            "description": "",
            "description_tooltip": null,
            "layout": "IPY_MODEL_835109ba7fbd4972900b995809917b3a",
            "placeholder": "​",
            "style": "IPY_MODEL_240aba63755f463798949182b2bc0e7a",
            "value": "Downloading (…)neration_config.json: 100%"
          }
        },
        "7eeddbf6881e40838bb1c1a8da701588": {
          "model_module": "@jupyter-widgets/controls",
          "model_name": "FloatProgressModel",
          "model_module_version": "1.5.0",
          "state": {
            "_dom_classes": [],
            "_model_module": "@jupyter-widgets/controls",
            "_model_module_version": "1.5.0",
            "_model_name": "FloatProgressModel",
            "_view_count": null,
            "_view_module": "@jupyter-widgets/controls",
            "_view_module_version": "1.5.0",
            "_view_name": "ProgressView",
            "bar_style": "success",
            "description": "",
            "description_tooltip": null,
            "layout": "IPY_MODEL_137d1817a3af44b09d8c2717fe0c2592",
            "max": 124,
            "min": 0,
            "orientation": "horizontal",
            "style": "IPY_MODEL_7d8bda35979a484cbedbf2597d60b553",
            "value": 124
          }
        },
        "6866c9be203c49bca4a6ed321f3cfe1d": {
          "model_module": "@jupyter-widgets/controls",
          "model_name": "HTMLModel",
          "model_module_version": "1.5.0",
          "state": {
            "_dom_classes": [],
            "_model_module": "@jupyter-widgets/controls",
            "_model_module_version": "1.5.0",
            "_model_name": "HTMLModel",
            "_view_count": null,
            "_view_module": "@jupyter-widgets/controls",
            "_view_module_version": "1.5.0",
            "_view_name": "HTMLView",
            "description": "",
            "description_tooltip": null,
            "layout": "IPY_MODEL_226e893e35504e75afef8364016b078d",
            "placeholder": "​",
            "style": "IPY_MODEL_b172861786474f699b2c2571727dc9ab",
            "value": " 124/124 [00:00&lt;00:00, 5.62kB/s]"
          }
        },
        "23d3d0773aca4ea5b6e6227e5cf99377": {
          "model_module": "@jupyter-widgets/base",
          "model_name": "LayoutModel",
          "model_module_version": "1.2.0",
          "state": {
            "_model_module": "@jupyter-widgets/base",
            "_model_module_version": "1.2.0",
            "_model_name": "LayoutModel",
            "_view_count": null,
            "_view_module": "@jupyter-widgets/base",
            "_view_module_version": "1.2.0",
            "_view_name": "LayoutView",
            "align_content": null,
            "align_items": null,
            "align_self": null,
            "border": null,
            "bottom": null,
            "display": null,
            "flex": null,
            "flex_flow": null,
            "grid_area": null,
            "grid_auto_columns": null,
            "grid_auto_flow": null,
            "grid_auto_rows": null,
            "grid_column": null,
            "grid_gap": null,
            "grid_row": null,
            "grid_template_areas": null,
            "grid_template_columns": null,
            "grid_template_rows": null,
            "height": null,
            "justify_content": null,
            "justify_items": null,
            "left": null,
            "margin": null,
            "max_height": null,
            "max_width": null,
            "min_height": null,
            "min_width": null,
            "object_fit": null,
            "object_position": null,
            "order": null,
            "overflow": null,
            "overflow_x": null,
            "overflow_y": null,
            "padding": null,
            "right": null,
            "top": null,
            "visibility": null,
            "width": null
          }
        },
        "835109ba7fbd4972900b995809917b3a": {
          "model_module": "@jupyter-widgets/base",
          "model_name": "LayoutModel",
          "model_module_version": "1.2.0",
          "state": {
            "_model_module": "@jupyter-widgets/base",
            "_model_module_version": "1.2.0",
            "_model_name": "LayoutModel",
            "_view_count": null,
            "_view_module": "@jupyter-widgets/base",
            "_view_module_version": "1.2.0",
            "_view_name": "LayoutView",
            "align_content": null,
            "align_items": null,
            "align_self": null,
            "border": null,
            "bottom": null,
            "display": null,
            "flex": null,
            "flex_flow": null,
            "grid_area": null,
            "grid_auto_columns": null,
            "grid_auto_flow": null,
            "grid_auto_rows": null,
            "grid_column": null,
            "grid_gap": null,
            "grid_row": null,
            "grid_template_areas": null,
            "grid_template_columns": null,
            "grid_template_rows": null,
            "height": null,
            "justify_content": null,
            "justify_items": null,
            "left": null,
            "margin": null,
            "max_height": null,
            "max_width": null,
            "min_height": null,
            "min_width": null,
            "object_fit": null,
            "object_position": null,
            "order": null,
            "overflow": null,
            "overflow_x": null,
            "overflow_y": null,
            "padding": null,
            "right": null,
            "top": null,
            "visibility": null,
            "width": null
          }
        },
        "240aba63755f463798949182b2bc0e7a": {
          "model_module": "@jupyter-widgets/controls",
          "model_name": "DescriptionStyleModel",
          "model_module_version": "1.5.0",
          "state": {
            "_model_module": "@jupyter-widgets/controls",
            "_model_module_version": "1.5.0",
            "_model_name": "DescriptionStyleModel",
            "_view_count": null,
            "_view_module": "@jupyter-widgets/base",
            "_view_module_version": "1.2.0",
            "_view_name": "StyleView",
            "description_width": ""
          }
        },
        "137d1817a3af44b09d8c2717fe0c2592": {
          "model_module": "@jupyter-widgets/base",
          "model_name": "LayoutModel",
          "model_module_version": "1.2.0",
          "state": {
            "_model_module": "@jupyter-widgets/base",
            "_model_module_version": "1.2.0",
            "_model_name": "LayoutModel",
            "_view_count": null,
            "_view_module": "@jupyter-widgets/base",
            "_view_module_version": "1.2.0",
            "_view_name": "LayoutView",
            "align_content": null,
            "align_items": null,
            "align_self": null,
            "border": null,
            "bottom": null,
            "display": null,
            "flex": null,
            "flex_flow": null,
            "grid_area": null,
            "grid_auto_columns": null,
            "grid_auto_flow": null,
            "grid_auto_rows": null,
            "grid_column": null,
            "grid_gap": null,
            "grid_row": null,
            "grid_template_areas": null,
            "grid_template_columns": null,
            "grid_template_rows": null,
            "height": null,
            "justify_content": null,
            "justify_items": null,
            "left": null,
            "margin": null,
            "max_height": null,
            "max_width": null,
            "min_height": null,
            "min_width": null,
            "object_fit": null,
            "object_position": null,
            "order": null,
            "overflow": null,
            "overflow_x": null,
            "overflow_y": null,
            "padding": null,
            "right": null,
            "top": null,
            "visibility": null,
            "width": null
          }
        },
        "7d8bda35979a484cbedbf2597d60b553": {
          "model_module": "@jupyter-widgets/controls",
          "model_name": "ProgressStyleModel",
          "model_module_version": "1.5.0",
          "state": {
            "_model_module": "@jupyter-widgets/controls",
            "_model_module_version": "1.5.0",
            "_model_name": "ProgressStyleModel",
            "_view_count": null,
            "_view_module": "@jupyter-widgets/base",
            "_view_module_version": "1.2.0",
            "_view_name": "StyleView",
            "bar_color": null,
            "description_width": ""
          }
        },
        "226e893e35504e75afef8364016b078d": {
          "model_module": "@jupyter-widgets/base",
          "model_name": "LayoutModel",
          "model_module_version": "1.2.0",
          "state": {
            "_model_module": "@jupyter-widgets/base",
            "_model_module_version": "1.2.0",
            "_model_name": "LayoutModel",
            "_view_count": null,
            "_view_module": "@jupyter-widgets/base",
            "_view_module_version": "1.2.0",
            "_view_name": "LayoutView",
            "align_content": null,
            "align_items": null,
            "align_self": null,
            "border": null,
            "bottom": null,
            "display": null,
            "flex": null,
            "flex_flow": null,
            "grid_area": null,
            "grid_auto_columns": null,
            "grid_auto_flow": null,
            "grid_auto_rows": null,
            "grid_column": null,
            "grid_gap": null,
            "grid_row": null,
            "grid_template_areas": null,
            "grid_template_columns": null,
            "grid_template_rows": null,
            "height": null,
            "justify_content": null,
            "justify_items": null,
            "left": null,
            "margin": null,
            "max_height": null,
            "max_width": null,
            "min_height": null,
            "min_width": null,
            "object_fit": null,
            "object_position": null,
            "order": null,
            "overflow": null,
            "overflow_x": null,
            "overflow_y": null,
            "padding": null,
            "right": null,
            "top": null,
            "visibility": null,
            "width": null
          }
        },
        "b172861786474f699b2c2571727dc9ab": {
          "model_module": "@jupyter-widgets/controls",
          "model_name": "DescriptionStyleModel",
          "model_module_version": "1.5.0",
          "state": {
            "_model_module": "@jupyter-widgets/controls",
            "_model_module_version": "1.5.0",
            "_model_name": "DescriptionStyleModel",
            "_view_count": null,
            "_view_module": "@jupyter-widgets/base",
            "_view_module_version": "1.2.0",
            "_view_name": "StyleView",
            "description_width": ""
          }
        }
      }
    }
  },
  "nbformat": 4,
  "nbformat_minor": 0
}